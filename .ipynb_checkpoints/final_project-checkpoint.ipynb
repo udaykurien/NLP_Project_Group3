{
 "cells": [
  {
   "cell_type": "code",
   "execution_count": null,
   "id": "77b1008d-4c47-4209-a4de-fbadd0344c0f",
   "metadata": {},
   "outputs": [],
   "source": []
  }
 ],
 "metadata": {
  "kernelspec": {
   "display_name": "Python 3 (ipykernel)",
   "language": "python",
   "name": "python3"
  },
  "language_info": {
   "codemirror_mode": {
    "name": "ipython",
    "version": 3
   },
   "file_extension": ".py",
   "mimetype": "text/x-python",
   "name": "python",
   "nbconvert_exporter": "python",
   "pygments_lexer": "ipython3",
   "version": "3.11.6"
  }
 },
 "nbformat": 4,
 "nbformat_minor": 5
}
