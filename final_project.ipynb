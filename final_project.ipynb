{
 "cells": [
  {
   "cell_type": "markdown",
   "id": "1d8b1ed2-718e-44db-a410-d6a03b16270d",
   "metadata": {},
   "source": [
    "<h3 style=\"color:maroon;\">Imports</h3>"
   ]
  },
  {
   "cell_type": "code",
   "execution_count": 45,
   "id": "541f8a4d-06da-4e2f-bf4e-f26b164ce10d",
   "metadata": {},
   "outputs": [],
   "source": [
    "import numpy as np\n",
    "import pandas as pd\n",
    "import matplotlib.pyplot as plt\n",
    "import sklearn as sk"
   ]
  },
  {
   "cell_type": "markdown",
   "id": "a82e4967-bb07-4f5e-aec9-909bcaabda9e",
   "metadata": {},
   "source": [
    "<h3 style=\"color:maroon;\">Visual aids</h3>"
   ]
  },
  {
   "cell_type": "code",
   "execution_count": 9,
   "id": "635d0dc3-0b82-4efb-8acc-d4cf7119d974",
   "metadata": {},
   "outputs": [],
   "source": [
    "class Colors:\n",
    "    RED = '\\033[91m' + '\\033[1m' + '\\033[4m'\n",
    "    GREEN = '\\033[92m' + '\\033[1m' + '\\033[4m'\n",
    "    YELLOW = '\\033[93m' + '\\033[1m' + '\\033[4m'\n",
    "    BLUE = '\\033[94m' + '\\033[1m' + '\\033[4m'\n",
    "    END = '\\033[0m'"
   ]
  },
  {
   "cell_type": "markdown",
   "id": "cec1ff89-27a3-469a-b80d-619c64be6a41",
   "metadata": {},
   "source": [
    "<h3 style=\"color:maroon;\">A. Initial exploration</h3>"
   ]
  },
  {
   "cell_type": "markdown",
   "id": "8e49c8c8-5448-407b-ba58-c653da2cd38c",
   "metadata": {},
   "source": [
    "<h4 style=\"color:#874c62;\">1. Import data</h4>"
   ]
  },
  {
   "cell_type": "code",
   "execution_count": 5,
   "id": "3a75ea43-aa4b-48e1-97c5-a997da6a94df",
   "metadata": {},
   "outputs": [],
   "source": [
    "raw_data = pd.read_csv(\"Youtube01-Psy.csv\")"
   ]
  },
  {
   "cell_type": "markdown",
   "id": "b342e8ad-cf76-41b5-8dcf-2ca95c376ec8",
   "metadata": {},
   "source": [
    "<h4 style=\"color:#874c62;\">2. Examination of properties of raw data frame</h4>"
   ]
  },
  {
   "cell_type": "code",
   "execution_count": 26,
   "id": "cfa522ff-f714-47e7-98bb-c1057e317ac9",
   "metadata": {},
   "outputs": [
    {
     "name": "stdout",
     "output_type": "stream",
     "text": [
      "\u001b[94m\u001b[1m\u001b[4mShape of data frame:\u001b[0m\n",
      "(350, 5)\n",
      "\n",
      "\u001b[94m\u001b[1m\u001b[4mData frame fields:\u001b[0m\n",
      "Index(['COMMENT_ID', 'AUTHOR', 'DATE', 'CONTENT', 'CLASS'], dtype='object')\n",
      "\n",
      "\u001b[94m\u001b[1m\u001b[4mData frame info:\u001b[0m\n",
      "<class 'pandas.core.frame.DataFrame'>\n",
      "RangeIndex: 350 entries, 0 to 349\n",
      "Data columns (total 5 columns):\n",
      " #   Column      Non-Null Count  Dtype \n",
      "---  ------      --------------  ----- \n",
      " 0   COMMENT_ID  350 non-null    object\n",
      " 1   AUTHOR      350 non-null    object\n",
      " 2   DATE        350 non-null    object\n",
      " 3   CONTENT     350 non-null    object\n",
      " 4   CLASS       350 non-null    int64 \n",
      "dtypes: int64(1), object(4)\n",
      "memory usage: 13.8+ KB\n",
      "\n",
      "\u001b[94m\u001b[1m\u001b[4mUnique entries per attribute:\u001b[0m\n",
      "COMMENT_ID    350\n",
      "AUTHOR        345\n",
      "DATE          350\n",
      "CONTENT       349\n",
      "CLASS           2\n",
      "dtype: int64\n",
      "\n",
      "\u001b[94m\u001b[1m\u001b[4mData frame head:\u001b[0m\n"
     ]
    },
    {
     "data": {
      "text/html": [
       "<div>\n",
       "<style scoped>\n",
       "    .dataframe tbody tr th:only-of-type {\n",
       "        vertical-align: middle;\n",
       "    }\n",
       "\n",
       "    .dataframe tbody tr th {\n",
       "        vertical-align: top;\n",
       "    }\n",
       "\n",
       "    .dataframe thead th {\n",
       "        text-align: right;\n",
       "    }\n",
       "</style>\n",
       "<table border=\"1\" class=\"dataframe\">\n",
       "  <thead>\n",
       "    <tr style=\"text-align: right;\">\n",
       "      <th></th>\n",
       "      <th>COMMENT_ID</th>\n",
       "      <th>AUTHOR</th>\n",
       "      <th>DATE</th>\n",
       "      <th>CONTENT</th>\n",
       "      <th>CLASS</th>\n",
       "    </tr>\n",
       "  </thead>\n",
       "  <tbody>\n",
       "    <tr>\n",
       "      <th>0</th>\n",
       "      <td>LZQPQhLyRh80UYxNuaDWhIGQYNQ96IuCg-AYWqNPjpU</td>\n",
       "      <td>Julius NM</td>\n",
       "      <td>2013-11-07T06:20:48</td>\n",
       "      <td>Huh, anyway check out this you[tube] channel: ...</td>\n",
       "      <td>1</td>\n",
       "    </tr>\n",
       "    <tr>\n",
       "      <th>1</th>\n",
       "      <td>LZQPQhLyRh_C2cTtd9MvFRJedxydaVW-2sNg5Diuo4A</td>\n",
       "      <td>adam riyati</td>\n",
       "      <td>2013-11-07T12:37:15</td>\n",
       "      <td>Hey guys check out my new channel and our firs...</td>\n",
       "      <td>1</td>\n",
       "    </tr>\n",
       "    <tr>\n",
       "      <th>2</th>\n",
       "      <td>LZQPQhLyRh9MSZYnf8djyk0gEF9BHDPYrrK-qCczIY8</td>\n",
       "      <td>Evgeny Murashkin</td>\n",
       "      <td>2013-11-08T17:34:21</td>\n",
       "      <td>just for test I have to say murdev.com</td>\n",
       "      <td>1</td>\n",
       "    </tr>\n",
       "  </tbody>\n",
       "</table>\n",
       "</div>"
      ],
      "text/plain": [
       "                                    COMMENT_ID            AUTHOR  \\\n",
       "0  LZQPQhLyRh80UYxNuaDWhIGQYNQ96IuCg-AYWqNPjpU         Julius NM   \n",
       "1  LZQPQhLyRh_C2cTtd9MvFRJedxydaVW-2sNg5Diuo4A       adam riyati   \n",
       "2  LZQPQhLyRh9MSZYnf8djyk0gEF9BHDPYrrK-qCczIY8  Evgeny Murashkin   \n",
       "\n",
       "                  DATE                                            CONTENT  \\\n",
       "0  2013-11-07T06:20:48  Huh, anyway check out this you[tube] channel: ...   \n",
       "1  2013-11-07T12:37:15  Hey guys check out my new channel and our firs...   \n",
       "2  2013-11-08T17:34:21             just for test I have to say murdev.com   \n",
       "\n",
       "   CLASS  \n",
       "0      1  \n",
       "1      1  \n",
       "2      1  "
      ]
     },
     "execution_count": 26,
     "metadata": {},
     "output_type": "execute_result"
    }
   ],
   "source": [
    "print(Colors.BLUE + \"Shape of data frame:\" + Colors.END)\n",
    "print(raw_data.shape)\n",
    "print(\"\")\n",
    "\n",
    "print(Colors.BLUE + \"Data frame fields:\" + Colors.END)\n",
    "print(raw_data.columns)\n",
    "print(\"\")\n",
    "\n",
    "print(Colors.BLUE + \"Data frame info:\" + Colors.END)\n",
    "raw_data.info()\n",
    "print(\"\")\n",
    "\n",
    "print(Colors.BLUE + \"Unique entries per attribute:\" + Colors.END)\n",
    "print(raw_data.nunique())\n",
    "print(\"\")\n",
    "\n",
    "print(Colors.BLUE + \"Data frame head:\" + Colors.END)\n",
    "raw_data.head(3)\n"
   ]
  },
  {
   "cell_type": "markdown",
   "id": "a036efa2-963b-44f8-bdaf-2eab17d46250",
   "metadata": {},
   "source": [
    "<h4 style=\"color:#874c62;\">3. Analysis of raw data frame</h4>"
   ]
  },
  {
   "cell_type": "markdown",
   "id": "d30a4bde-a884-4ea1-b2d7-f8d7f2b123d7",
   "metadata": {},
   "source": [
    "<div style=\"background-color: rgba(120,120,200,0.25); padding: 10px;\">\n",
    "    <h5>Analysis of raw data frame<br></h5>\n",
    "        <body>\n",
    "            Main observations:\n",
    "            <ol>\n",
    "                <li>The data set contains 350 entries and 5 attributes.</li>\n",
    "                <li>None of the fields in the data set are empty.</li>\n",
    "                <li>Fields,<b>COMMENT_ID, AUTHOR,DATE, CONTENT</b> contain mostly unique values, hence they will be ignored in classifying the <b>CONTENT</b> class.</li>\n",
    "            </ol>\n",
    "    </body>\n",
    "</div>"
   ]
  },
  {
   "cell_type": "markdown",
   "id": "d65f822f-5303-4ce3-88e2-b1d029c793a5",
   "metadata": {},
   "source": [
    "<h4 style=\"color:#874c62;\">4. Summary examination of <b>CONTENT</b> field.</h4>"
   ]
  },
  {
   "cell_type": "code",
   "execution_count": 81,
   "id": "d7e1d1a7-e701-46b6-b60b-426e293eebb3",
   "metadata": {},
   "outputs": [
    {
     "name": "stdout",
     "output_type": "stream",
     "text": [
      "\u001b[94m\u001b[1m\u001b[4mMax length of content:\u001b[0m\n",
      "1078\n",
      "\n",
      "\u001b[94m\u001b[1m\u001b[4mMin length of content:\u001b[0m\n",
      "4\n",
      "\n",
      "\u001b[94m\u001b[1m\u001b[4mMax length of spam content:\u001b[0m\n",
      "1078\n",
      "\n",
      "\u001b[94m\u001b[1m\u001b[4mMax length of ham content:\u001b[0m\n",
      "753\n",
      "\n",
      "\u001b[94m\u001b[1m\u001b[4mMin length of spam content:\u001b[0m\n",
      "14\n",
      "\n",
      "\u001b[94m\u001b[1m\u001b[4mMin length of ham content:\u001b[0m\n",
      "4\n",
      "\n",
      "\u001b[94m\u001b[1m\u001b[4mLongest spam comment:\u001b[0m\n",
      "im sorry for the spam but My name is Jenny. I go to high school where  everyone dresses fashionable but for me I don't because i need money to buy  cute clothes. I have low self esteem . I live with my dad. my mom passed  away when i was 6 so i don't really have a mother figure. I have 2 brothers  who is older than me. Since they are boys they get the attention while i  just be alone. I really want to wear pretty clothes like the girls in my  school and get a boyfriend. i just can't be my self. im very quite and shy  at school because i don't have the confidence in myself to talk to someone.  i did have one friend name Caroline but she moved away so now im alone. if  you could donate some money to me it would be great. i don't care about  expensive brand ill just shop at walmart because they have pretty clothes.  also i wanna get my nails done at a salon . i see alot of girls have these  french tips. i never had my nail did at a salon before i will really  appreciate if i can and get my hair curled too. http://www.gofundme.com/dressprettyonce thanks omg please.﻿\n",
      "\n",
      "\u001b[94m\u001b[1m\u001b[4mShortest spam comment:\u001b[0m\n",
      "Subscribe ME!﻿\n",
      "\n",
      "\u001b[94m\u001b[1m\u001b[4mLongest ham comment:\u001b[0m\n",
      "Hey I think I know what where dealing with here!!!! I have some theories of  how this could've gotten 2billion hits!! 1. This was mabey made in korea and its realy popular there so they were  stuck watching this over and over again. 2. Over 2billion people have access to the Internet, including youtube, and  the numbers are rising, by 2017 half of the populatoin will be connected. 3. Hackers In Korea may have loved it so much they rised it to 2billion  hits to make it more popular.  4. The song was featured in a just dance game, on multiple mp3s, and been  seen on concerts and even on new years eve event in 2012, so just by seeing  those you mabey adding more hits to this video. 5. You are complaining to much on how the heck this has 2b hits.﻿\n",
      "\n",
      "\u001b[94m\u001b[1m\u001b[4mShortest ham comment:\u001b[0m\n",
      "LoL﻿\n",
      "\n"
     ]
    }
   ],
   "source": [
    "# Max length of CONTENT field\n",
    "max_length_comment = raw_data[\"CONTENT\"].str.len().max()\n",
    "print(Colors.BLUE + \"Max length of content:\" + Colors.END)\n",
    "print(max_length_comment)\n",
    "print(\"\")\n",
    "\n",
    "# Min length of CONTENT field\n",
    "min_length_comment = raw_data[\"CONTENT\"].str.len().min()\n",
    "print(Colors.BLUE + \"Min length of content:\" + Colors.END)\n",
    "print(min_length_comment)\n",
    "print(\"\")\n",
    "\n",
    "# Max length of spam comment\n",
    "max_length_comment_spam = raw_data.loc[raw_data[\"CLASS\"] == 1, \"CONTENT\"].str.len().max()\n",
    "print(Colors.BLUE + \"Max length of spam content:\" + Colors.END)\n",
    "print(max_length_comment_spam)\n",
    "print(\"\")\n",
    "\n",
    "# Min length of spam comment\n",
    "max_length_comment_ham = raw_data.loc[raw_data[\"CLASS\"] == 0, \"CONTENT\"].str.len().max()\n",
    "print(Colors.BLUE + \"Max length of ham content:\" + Colors.END)\n",
    "print(max_length_comment_ham)\n",
    "print(\"\")\n",
    "\n",
    "# Max length of ham comment\n",
    "min_length_comment_spam = raw_data.loc[raw_data[\"CLASS\"] == 1, \"CONTENT\"].str.len().min()\n",
    "print(Colors.BLUE + \"Min length of spam content:\" + Colors.END)\n",
    "print(min_length_comment_spam)\n",
    "print(\"\")\n",
    "\n",
    "# Min legnth of ham comment\n",
    "min_length_comment_ham = raw_data.loc[raw_data[\"CLASS\"] == 0, \"CONTENT\"].str.len().min()\n",
    "print(Colors.BLUE + \"Min length of ham content:\" + Colors.END)\n",
    "print(min_length_comment_ham)\n",
    "print(\"\")\n",
    "\n",
    "# Print longest spam comment\n",
    "filtered_data_class = raw_data[raw_data[\"CLASS\"] == 1]\n",
    "longest_content_class = filtered_data_class.loc[filtered_data_class[\"CONTENT\"].str.len().idxmax(), \"CONTENT\"]\n",
    "print(Colors.BLUE + \"Longest spam comment:\" + Colors.END)\n",
    "print(longest_content_class)\n",
    "print(\"\")\n",
    "\n",
    "# Print shortest spam comment\n",
    "filtered_data_class = raw_data[raw_data[\"CLASS\"] == 1]\n",
    "shortest_content_class = filtered_data_class.loc[filtered_data_class[\"CONTENT\"].str.len().idxmin(), \"CONTENT\"]\n",
    "print(Colors.BLUE + \"Shortest spam comment:\" + Colors.END)\n",
    "print(shortest_content_class)\n",
    "print(\"\")\n",
    "\n",
    "# Print longest hamm comment\n",
    "filtered_data_class = raw_data[raw_data[\"CLASS\"] == 0]\n",
    "longest_content_class = filtered_data_class.loc[filtered_data_class[\"CONTENT\"].str.len().idxmax(), \"CONTENT\"]\n",
    "print(Colors.BLUE + \"Longest ham comment:\" + Colors.END)\n",
    "print(longest_content_class)\n",
    "print(\"\")\n",
    "\n",
    "filtered_data_class = raw_data[raw_data[\"CLASS\"] == 0]\n",
    "shortest_content_class = filtered_data_class.loc[filtered_data_class[\"CONTENT\"].str.len().idxmin(), \"CONTENT\"]\n",
    "print(Colors.BLUE + \"Shortest ham comment:\" + Colors.END)\n",
    "print(shortest_content_class)\n",
    "print(\"\")"
   ]
  },
  {
   "cell_type": "markdown",
   "id": "5e423ac8-c565-4007-9646-a79d078587e0",
   "metadata": {},
   "source": [
    "<h4 style=\"color:#874c62;\">5. Visual examination of <b>CONTENT</b> field.</h4>"
   ]
  },
  {
   "cell_type": "code",
   "execution_count": 65,
   "id": "fb49eb45-dd53-41fb-87b9-50d728811fd0",
   "metadata": {},
   "outputs": [
    {
     "data": {
      "image/png": "[encoded data removed]",
      "text/plain": [
       "<Figure size 1000x500 with 2 Axes>"
      ]
     },
     "metadata": {},
     "output_type": "display_data"
    }
   ],
   "source": [
    "# Get lengths of all spam and ham comments\n",
    "spam_lengths = raw_data.loc[raw_data[\"CLASS\"]==1, \"CONTENT\"].str.len()\n",
    "ham_lengths = raw_data.loc[raw_data[\"CLASS\"]==0, \"CONTENT\"].str.len()\n",
    "\n",
    "# Plot distribution of spam and ham lengths\n",
    "fig, ax = plt.subplots(nrows=1, ncols=2, figsize=(10,5))\n",
    "\n",
    "ax[0].hist(spam_lengths, bins=30, color=\"red\", edgecolor=\"red\", alpha=0.5)\n",
    "ax[0].set_title(\"Distribution of spam comment lengths\")\n",
    "ax[0].set_xlabel(\"Length\")\n",
    "ax[0].set_ylabel(\"Counts\")\n",
    "\n",
    "ax[1].hist(ham_lengths, bins=30, color=\"green\", edgecolor=\"green\", alpha=0.5)\n",
    "ax[1].set_title(\"Distribution of ham comment lengths\")\n",
    "ax[1].set_xlabel(\"Length\")\n",
    "ax[1].set_ylabel(\"Counts\")\n",
    "\n",
    "plt.show()"
   ]
  },
  {
   "cell_type": "markdown",
   "id": "a613179b-6660-47e9-8230-51d4d5b20d7d",
   "metadata": {},
   "source": [
    "<h4 style=\"color:#874c62;\">6. Analysis of <b>CONTENT</b> field.</h4>"
   ]
  },
  {
   "cell_type": "markdown",
   "id": "38025e87-e49a-4702-b3b1-18cd3dd85ea6",
   "metadata": {},
   "source": [
    "<div style=\"background-color: rgba(120,120,200,0.25); padding: 10px;\">\n",
    "    <h5>Analysis of COMMENTS<br></h5>\n",
    "        <body>\n",
    "            <ul>\n",
    "                <li>\n",
    "                    Based on a summary statistical analysis there aren't many features that distinguish between spam and ham comments.\n",
    "                </li>\n",
    "                <li>\n",
    "                    Both spam and ham comments show similarly skewed distribution, with most of them having total character counts bounded between 0 - 200 characters. \n",
    "                </li>\n",
    "                <li>\n",
    "                    The longest spam message has more characters than the longest ham message, however, the statistical relevance of this is undecided.\n",
    "                </li>\n",
    "                <li>\n",
    "                    It is not immediately clear if including content length as a feature will improve the performance of a classifier.\n",
    "                </li>\n",
    "            </ul>\n",
    "    </body>\n",
    "</div>"
   ]
  },
  {
   "cell_type": "markdown",
   "id": "f4516303-1c1b-48cd-a03d-cef481e8f161",
   "metadata": {},
   "source": [
    "<h3 style=\"color:maroon;\">B. Data preparation</h3>"
   ]
  },
  {
   "cell_type": "markdown",
   "id": "23f01fe8-5fc1-4b37-9269-d9259b5f245e",
   "metadata": {},
   "source": [
    "<h4 style=\"color:#874c62;\">1. Prepare new dataframe with only <b>CONTENT</b> and <b>CLASS</b>fields.</h4>"
   ]
  },
  {
   "cell_type": "code",
   "execution_count": 87,
   "id": "c68ea3b3-b97b-41d8-913d-12756b8545b3",
   "metadata": {},
   "outputs": [
    {
     "name": "stdout",
     "output_type": "stream",
     "text": [
      "\u001b[94m\u001b[1m\u001b[4mShape of data frame:\u001b[0m\n",
      "(350, 2)\n",
      "\n",
      "\u001b[94m\u001b[1m\u001b[4mData frame fields:\u001b[0m\n",
      "Index(['CLASS', 'CONTENT'], dtype='object')\n",
      "\n",
      "\u001b[94m\u001b[1m\u001b[4mData frame info:\u001b[0m\n",
      "<class 'pandas.core.frame.DataFrame'>\n",
      "RangeIndex: 350 entries, 0 to 349\n",
      "Data columns (total 2 columns):\n",
      " #   Column   Non-Null Count  Dtype \n",
      "---  ------   --------------  ----- \n",
      " 0   CLASS    350 non-null    int64 \n",
      " 1   CONTENT  350 non-null    object\n",
      "dtypes: int64(1), object(1)\n",
      "memory usage: 5.6+ KB\n",
      "\n",
      "\u001b[94m\u001b[1m\u001b[4mUnique entries per attribute:\u001b[0m\n",
      "CLASS        2\n",
      "CONTENT    349\n",
      "dtype: int64\n",
      "\n",
      "\u001b[94m\u001b[1m\u001b[4mData frame head:\u001b[0m\n"
     ]
    },
    {
     "data": {
      "text/html": [
       "<div>\n",
       "<style scoped>\n",
       "    .dataframe tbody tr th:only-of-type {\n",
       "        vertical-align: middle;\n",
       "    }\n",
       "\n",
       "    .dataframe tbody tr th {\n",
       "        vertical-align: top;\n",
       "    }\n",
       "\n",
       "    .dataframe thead th {\n",
       "        text-align: right;\n",
       "    }\n",
       "</style>\n",
       "<table border=\"1\" class=\"dataframe\">\n",
       "  <thead>\n",
       "    <tr style=\"text-align: right;\">\n",
       "      <th></th>\n",
       "      <th>CLASS</th>\n",
       "      <th>CONTENT</th>\n",
       "    </tr>\n",
       "  </thead>\n",
       "  <tbody>\n",
       "    <tr>\n",
       "      <th>0</th>\n",
       "      <td>1</td>\n",
       "      <td>Huh, anyway check out this you[tube] channel: ...</td>\n",
       "    </tr>\n",
       "    <tr>\n",
       "      <th>1</th>\n",
       "      <td>1</td>\n",
       "      <td>Hey guys check out my new channel and our firs...</td>\n",
       "    </tr>\n",
       "    <tr>\n",
       "      <th>2</th>\n",
       "      <td>1</td>\n",
       "      <td>just for test I have to say murdev.com</td>\n",
       "    </tr>\n",
       "  </tbody>\n",
       "</table>\n",
       "</div>"
      ],
      "text/plain": [
       "   CLASS                                            CONTENT\n",
       "0      1  Huh, anyway check out this you[tube] channel: ...\n",
       "1      1  Hey guys check out my new channel and our firs...\n",
       "2      1             just for test I have to say murdev.com"
      ]
     },
     "execution_count": 87,
     "metadata": {},
     "output_type": "execute_result"
    }
   ],
   "source": [
    "# Create new dataframe with appropriate fields\n",
    "proc_data = raw_data[[\"CLASS\",\"CONTENT\"]]\n",
    "\n",
    "# Inspect the dataframe\n",
    "print(Colors.BLUE + \"Shape of data frame:\" + Colors.END)\n",
    "print(proc_data.shape)\n",
    "print(\"\")\n",
    "\n",
    "print(Colors.BLUE + \"Data frame fields:\" + Colors.END)\n",
    "print(proc_data.columns)\n",
    "print(\"\")\n",
    "\n",
    "print(Colors.BLUE + \"Data frame info:\" + Colors.END)\n",
    "proc_data.info()\n",
    "print(\"\")\n",
    "\n",
    "print(Colors.BLUE + \"Unique entries per attribute:\" + Colors.END)\n",
    "print(proc_data.nunique())\n",
    "print(\"\")\n",
    "\n",
    "print(Colors.BLUE + \"Data frame head:\" + Colors.END)\n",
    "proc_data.head(3)\n"
   ]
  },
  {
   "cell_type": "code",
   "execution_count": null,
   "id": "7c65c85c-5a87-4299-af50-100359b1fef7",
   "metadata": {},
   "outputs": [],
   "source": []
  }
 ],
 "metadata": {
  "kernelspec": {
   "display_name": "Python 3 (ipykernel)",
   "language": "python",
   "name": "python3"
  },
  "language_info": {
   "codemirror_mode": {
    "name": "ipython",
    "version": 3
   },
   "file_extension": ".py",
   "mimetype": "text/x-python",
   "name": "python",
   "nbconvert_exporter": "python",
   "pygments_lexer": "ipython3",
   "version": "3.11.6"
  }
 },
 "nbformat": 4,
 "nbformat_minor": 5
}
