{
 "cells": [
  {
   "cell_type": "markdown",
   "id": "942fad03-d14f-48d4-830a-c928d77de09c",
   "metadata": {},
   "source": [
    "<h3 style=\"color: green; text-align: center;\">Group 3: Final Project</h3>\n",
    "<h4 style=\"color: cadetblue; text-align: center;\">Uday Kurien, Salma Chaaban, Ibrahem Aqel, Shahrier Huq</h3>"
   ]
  },
  {
   "cell_type": "markdown",
   "id": "1d8b1ed2-718e-44db-a410-d6a03b16270d",
   "metadata": {},
   "source": [
    "<h3 style=\"color:maroon;\">Imports</h3>"
   ]
  },
  {
   "cell_type": "code",
   "execution_count": 1,
   "id": "541f8a4d-06da-4e2f-bf4e-f26b164ce10d",
   "metadata": {},
   "outputs": [],
   "source": [
    "import numpy as np\n",
    "import pandas as pd\n",
    "import matplotlib.pyplot as plt\n",
    "from nltk.tokenize import WordPunctTokenizer\n",
    "from nltk.corpus import stopwords\n",
    "from nltk.stem import WordNetLemmatizer\n",
    "from sklearn.feature_extraction.text import CountVectorizer, TfidfVectorizer, TfidfTransformer\n",
    "from sklearn.naive_bayes import MultinomialNB\n",
    "from sklearn.metrics import accuracy_score, classification_report, confusion_matrix\n",
    "from sklearn.model_selection import cross_val_score"
   ]
  },
  {
   "cell_type": "markdown",
   "id": "a82e4967-bb07-4f5e-aec9-909bcaabda9e",
   "metadata": {},
   "source": [
    "<h3 style=\"color:maroon;\">Visual aids</h3>"
   ]
  },
  {
   "cell_type": "code",
   "execution_count": 2,
   "id": "635d0dc3-0b82-4efb-8acc-d4cf7119d974",
   "metadata": {},
   "outputs": [],
   "source": [
    "class Colors:\n",
    "    BLUE = '\\033[94m' + '\\033[1m'\n",
    "    END = '\\033[0m'"
   ]
  },
  {
   "cell_type": "markdown",
   "id": "cec1ff89-27a3-469a-b80d-619c64be6a41",
   "metadata": {},
   "source": [
    "<h3 style=\"color:maroon;\">A. Initial exploration</h3>\n",
    "<h4 style=\"color:teal;\">(<b>Primary Contributor:</b> <u>Salma</u> , <b>Reviewer:</b> <u>Uday</u>)</h4>"
   ]
  },
  {
   "cell_type": "markdown",
   "id": "8e49c8c8-5448-407b-ba58-c653da2cd38c",
   "metadata": {},
   "source": [
    "<h4 style=\"color:#874c62;\">1. Import data</h4>"
   ]
  },
  {
   "cell_type": "code",
   "execution_count": 3,
   "id": "3a75ea43-aa4b-48e1-97c5-a997da6a94df",
   "metadata": {},
   "outputs": [],
   "source": [
    "raw_data = pd.read_csv(\"Youtube01-Psy.csv\")"
   ]
  },
  {
   "cell_type": "markdown",
   "id": "b342e8ad-cf76-41b5-8dcf-2ca95c376ec8",
   "metadata": {},
   "source": [
    "<h4 style=\"color:#874c62;\">2. Examination of properties of raw data frame</h4>"
   ]
  },
  {
   "cell_type": "code",
   "execution_count": 4,
   "id": "cfa522ff-f714-47e7-98bb-c1057e317ac9",
   "metadata": {},
   "outputs": [
    {
     "name": "stdout",
     "output_type": "stream",
     "text": [
      "\u001b[94m\u001b[1mShape of data frame:\u001b[0m\n",
      "(350, 5)\n",
      "\n",
      "\u001b[94m\u001b[1mData frame fields:\u001b[0m\n",
      "Index(['COMMENT_ID', 'AUTHOR', 'DATE', 'CONTENT', 'CLASS'], dtype='object')\n",
      "\n",
      "\u001b[94m\u001b[1mData frame info:\u001b[0m\n",
      "<class 'pandas.core.frame.DataFrame'>\n",
      "RangeIndex: 350 entries, 0 to 349\n",
      "Data columns (total 5 columns):\n",
      " #   Column      Non-Null Count  Dtype \n",
      "---  ------      --------------  ----- \n",
      " 0   COMMENT_ID  350 non-null    object\n",
      " 1   AUTHOR      350 non-null    object\n",
      " 2   DATE        350 non-null    object\n",
      " 3   CONTENT     350 non-null    object\n",
      " 4   CLASS       350 non-null    int64 \n",
      "dtypes: int64(1), object(4)\n",
      "memory usage: 13.8+ KB\n",
      "\n",
      "\u001b[94m\u001b[1mUnique entries per attribute:\u001b[0m\n",
      "COMMENT_ID    350\n",
      "AUTHOR        345\n",
      "DATE          350\n",
      "CONTENT       349\n",
      "CLASS           2\n",
      "dtype: int64\n",
      "\n",
      "\u001b[94m\u001b[1mData frame head:\u001b[0m\n"
     ]
    },
    {
     "data": {
      "text/html": [
       "<div>\n",
       "<style scoped>\n",
       "    .dataframe tbody tr th:only-of-type {\n",
       "        vertical-align: middle;\n",
       "    }\n",
       "\n",
       "    .dataframe tbody tr th {\n",
       "        vertical-align: top;\n",
       "    }\n",
       "\n",
       "    .dataframe thead th {\n",
       "        text-align: right;\n",
       "    }\n",
       "</style>\n",
       "<table border=\"1\" class=\"dataframe\">\n",
       "  <thead>\n",
       "    <tr style=\"text-align: right;\">\n",
       "      <th></th>\n",
       "      <th>COMMENT_ID</th>\n",
       "      <th>AUTHOR</th>\n",
       "      <th>DATE</th>\n",
       "      <th>CONTENT</th>\n",
       "      <th>CLASS</th>\n",
       "    </tr>\n",
       "  </thead>\n",
       "  <tbody>\n",
       "    <tr>\n",
       "      <th>0</th>\n",
       "      <td>LZQPQhLyRh80UYxNuaDWhIGQYNQ96IuCg-AYWqNPjpU</td>\n",
       "      <td>Julius NM</td>\n",
       "      <td>2013-11-07T06:20:48</td>\n",
       "      <td>Huh, anyway check out this you[tube] channel: ...</td>\n",
       "      <td>1</td>\n",
       "    </tr>\n",
       "    <tr>\n",
       "      <th>1</th>\n",
       "      <td>LZQPQhLyRh_C2cTtd9MvFRJedxydaVW-2sNg5Diuo4A</td>\n",
       "      <td>adam riyati</td>\n",
       "      <td>2013-11-07T12:37:15</td>\n",
       "      <td>Hey guys check out my new channel and our firs...</td>\n",
       "      <td>1</td>\n",
       "    </tr>\n",
       "    <tr>\n",
       "      <th>2</th>\n",
       "      <td>LZQPQhLyRh9MSZYnf8djyk0gEF9BHDPYrrK-qCczIY8</td>\n",
       "      <td>Evgeny Murashkin</td>\n",
       "      <td>2013-11-08T17:34:21</td>\n",
       "      <td>just for test I have to say murdev.com</td>\n",
       "      <td>1</td>\n",
       "    </tr>\n",
       "  </tbody>\n",
       "</table>\n",
       "</div>"
      ],
      "text/plain": [
       "                                    COMMENT_ID            AUTHOR  \\\n",
       "0  LZQPQhLyRh80UYxNuaDWhIGQYNQ96IuCg-AYWqNPjpU         Julius NM   \n",
       "1  LZQPQhLyRh_C2cTtd9MvFRJedxydaVW-2sNg5Diuo4A       adam riyati   \n",
       "2  LZQPQhLyRh9MSZYnf8djyk0gEF9BHDPYrrK-qCczIY8  Evgeny Murashkin   \n",
       "\n",
       "                  DATE                                            CONTENT  \\\n",
       "0  2013-11-07T06:20:48  Huh, anyway check out this you[tube] channel: ...   \n",
       "1  2013-11-07T12:37:15  Hey guys check out my new channel and our firs...   \n",
       "2  2013-11-08T17:34:21             just for test I have to say murdev.com   \n",
       "\n",
       "   CLASS  \n",
       "0      1  \n",
       "1      1  \n",
       "2      1  "
      ]
     },
     "execution_count": 4,
     "metadata": {},
     "output_type": "execute_result"
    }
   ],
   "source": [
    "print(Colors.BLUE + \"Shape of data frame:\" + Colors.END)\n",
    "print(raw_data.shape)\n",
    "print(\"\")\n",
    "\n",
    "print(Colors.BLUE + \"Data frame fields:\" + Colors.END)\n",
    "print(raw_data.columns)\n",
    "print(\"\")\n",
    "\n",
    "print(Colors.BLUE + \"Data frame info:\" + Colors.END)\n",
    "raw_data.info()\n",
    "print(\"\")\n",
    "\n",
    "print(Colors.BLUE + \"Unique entries per attribute:\" + Colors.END)\n",
    "print(raw_data.nunique())\n",
    "print(\"\")\n",
    "\n",
    "print(Colors.BLUE + \"Data frame head:\" + Colors.END)\n",
    "raw_data.head(3)\n"
   ]
  },
  {
   "cell_type": "markdown",
   "id": "a036efa2-963b-44f8-bdaf-2eab17d46250",
   "metadata": {},
   "source": [
    "<h4 style=\"color:#874c62;\">3. Analysis of raw data frame</h4>"
   ]
  },
  {
   "cell_type": "markdown",
   "id": "d30a4bde-a884-4ea1-b2d7-f8d7f2b123d7",
   "metadata": {},
   "source": [
    "<div style=\"background-color: rgba(120,120,200,0.25); padding: 10px;\">\n",
    "    <h5>Analysis of raw data frame<br></h5>\n",
    "        <body>\n",
    "            Main observations:\n",
    "            <ol>\n",
    "                <li>The data set contains 350 entries and 5 attributes.</li>\n",
    "                <li>None of the fields in the data set are empty.</li>\n",
    "                <li>Fields,<b>COMMENT_ID, AUTHOR, DATE</b> contain mostly unique values, hence they will be ignored in classifying the <b>CONTENT</b> class.</li>\n",
    "            </ol>\n",
    "    </body>\n",
    "</div>"
   ]
  },
  {
   "cell_type": "markdown",
   "id": "d65f822f-5303-4ce3-88e2-b1d029c793a5",
   "metadata": {},
   "source": [
    "<h4 style=\"color:#874c62;\">4. Summary examination of <b>CONTENT</b> field.</h4>"
   ]
  },
  {
   "cell_type": "code",
   "execution_count": 5,
   "id": "d7e1d1a7-e701-46b6-b60b-426e293eebb3",
   "metadata": {},
   "outputs": [
    {
     "name": "stdout",
     "output_type": "stream",
     "text": [
      "\u001b[94m\u001b[1mMax length of content:\u001b[0m\n",
      "1078\n",
      "\n",
      "\u001b[94m\u001b[1mMin length of content:\u001b[0m\n",
      "4\n",
      "\n",
      "\u001b[94m\u001b[1mMax length of spam content:\u001b[0m\n",
      "1078\n",
      "\n",
      "\u001b[94m\u001b[1mMax length of ham content:\u001b[0m\n",
      "753\n",
      "\n",
      "\u001b[94m\u001b[1mMin length of spam content:\u001b[0m\n",
      "14\n",
      "\n",
      "\u001b[94m\u001b[1mMin length of ham content:\u001b[0m\n",
      "4\n",
      "\n",
      "\u001b[94m\u001b[1mLongest spam comment:\u001b[0m\n",
      "im sorry for the spam but My name is Jenny. I go to high school where  everyone dresses fashionable but for me I don't because i need money to buy  cute clothes. I have low self esteem . I live with my dad. my mom passed  away when i was 6 so i don't really have a mother figure. I have 2 brothers  who is older than me. Since they are boys they get the attention while i  just be alone. I really want to wear pretty clothes like the girls in my  school and get a boyfriend. i just can't be my self. im very quite and shy  at school because i don't have the confidence in myself to talk to someone.  i did have one friend name Caroline but she moved away so now im alone. if  you could donate some money to me it would be great. i don't care about  expensive brand ill just shop at walmart because they have pretty clothes.  also i wanna get my nails done at a salon . i see alot of girls have these  french tips. i never had my nail did at a salon before i will really  appreciate if i can and get my hair curled too. http://www.gofundme.com/dressprettyonce thanks omg please.﻿\n",
      "\n",
      "\u001b[94m\u001b[1mShortest spam comment:\u001b[0m\n",
      "Subscribe ME!﻿\n",
      "\n",
      "\u001b[94m\u001b[1mLongest ham comment:\u001b[0m\n",
      "Hey I think I know what where dealing with here!!!! I have some theories of  how this could've gotten 2billion hits!! 1. This was mabey made in korea and its realy popular there so they were  stuck watching this over and over again. 2. Over 2billion people have access to the Internet, including youtube, and  the numbers are rising, by 2017 half of the populatoin will be connected. 3. Hackers In Korea may have loved it so much they rised it to 2billion  hits to make it more popular.  4. The song was featured in a just dance game, on multiple mp3s, and been  seen on concerts and even on new years eve event in 2012, so just by seeing  those you mabey adding more hits to this video. 5. You are complaining to much on how the heck this has 2b hits.﻿\n",
      "\n",
      "\u001b[94m\u001b[1mShortest ham comment:\u001b[0m\n",
      "LoL﻿\n",
      "\n"
     ]
    }
   ],
   "source": [
    "# Max length of CONTENT field\n",
    "max_length_comment = raw_data[\"CONTENT\"].str.len().max()\n",
    "print(Colors.BLUE + \"Max length of content:\" + Colors.END)\n",
    "print(max_length_comment)\n",
    "print(\"\")\n",
    "\n",
    "# Min length of CONTENT field\n",
    "min_length_comment = raw_data[\"CONTENT\"].str.len().min()\n",
    "print(Colors.BLUE + \"Min length of content:\" + Colors.END)\n",
    "print(min_length_comment)\n",
    "print(\"\")\n",
    "\n",
    "# Max length of spam comment\n",
    "max_length_comment_spam = raw_data.loc[raw_data[\"CLASS\"] == 1, \"CONTENT\"].str.len().max()\n",
    "print(Colors.BLUE + \"Max length of spam content:\" + Colors.END)\n",
    "print(max_length_comment_spam)\n",
    "print(\"\")\n",
    "\n",
    "# Min length of spam comment\n",
    "max_length_comment_ham = raw_data.loc[raw_data[\"CLASS\"] == 0, \"CONTENT\"].str.len().max()\n",
    "print(Colors.BLUE + \"Max length of ham content:\" + Colors.END)\n",
    "print(max_length_comment_ham)\n",
    "print(\"\")\n",
    "\n",
    "# Max length of ham comment\n",
    "min_length_comment_spam = raw_data.loc[raw_data[\"CLASS\"] == 1, \"CONTENT\"].str.len().min()\n",
    "print(Colors.BLUE + \"Min length of spam content:\" + Colors.END)\n",
    "print(min_length_comment_spam)\n",
    "print(\"\")\n",
    "\n",
    "# Min legnth of ham comment\n",
    "min_length_comment_ham = raw_data.loc[raw_data[\"CLASS\"] == 0, \"CONTENT\"].str.len().min()\n",
    "print(Colors.BLUE + \"Min length of ham content:\" + Colors.END)\n",
    "print(min_length_comment_ham)\n",
    "print(\"\")\n",
    "\n",
    "# Print longest spam comment\n",
    "filtered_data_class = raw_data[raw_data[\"CLASS\"] == 1]\n",
    "longest_content_class = filtered_data_class.loc[filtered_data_class[\"CONTENT\"].str.len().idxmax(), \"CONTENT\"]\n",
    "print(Colors.BLUE + \"Longest spam comment:\" + Colors.END)\n",
    "print(longest_content_class)\n",
    "print(\"\")\n",
    "\n",
    "# Print shortest spam comment\n",
    "filtered_data_class = raw_data[raw_data[\"CLASS\"] == 1]\n",
    "shortest_content_class = filtered_data_class.loc[filtered_data_class[\"CONTENT\"].str.len().idxmin(), \"CONTENT\"]\n",
    "print(Colors.BLUE + \"Shortest spam comment:\" + Colors.END)\n",
    "print(shortest_content_class)\n",
    "print(\"\")\n",
    "\n",
    "# Print longest hamm comment\n",
    "filtered_data_class = raw_data[raw_data[\"CLASS\"] == 0]\n",
    "longest_content_class = filtered_data_class.loc[filtered_data_class[\"CONTENT\"].str.len().idxmax(), \"CONTENT\"]\n",
    "print(Colors.BLUE + \"Longest ham comment:\" + Colors.END)\n",
    "print(longest_content_class)\n",
    "print(\"\")\n",
    "\n",
    "filtered_data_class = raw_data[raw_data[\"CLASS\"] == 0]\n",
    "shortest_content_class = filtered_data_class.loc[filtered_data_class[\"CONTENT\"].str.len().idxmin(), \"CONTENT\"]\n",
    "print(Colors.BLUE + \"Shortest ham comment:\" + Colors.END)\n",
    "print(shortest_content_class)\n",
    "print(\"\")"
   ]
  },
  {
   "cell_type": "markdown",
   "id": "5e423ac8-c565-4007-9646-a79d078587e0",
   "metadata": {},
   "source": [
    "<h4 style=\"color:#874c62;\">5. Visual examination of <b>CONTENT</b> field.</h4>"
   ]
  },
  {
   "cell_type": "code",
   "execution_count": 6,
   "id": "fb49eb45-dd53-41fb-87b9-50d728811fd0",
   "metadata": {},
   "outputs": [
    {
     "data": {
      "image/png": "[encoded data removed]",
      "text/plain": [
       "<Figure size 1000x1000 with 3 Axes>"
      ]
     },
     "metadata": {},
     "output_type": "display_data"
    }
   ],
   "source": [
    "# Get lengths of all spam and ham comments\n",
    "spam_lengths = raw_data.loc[raw_data[\"CLASS\"]==1, \"CONTENT\"].str.len()\n",
    "ham_lengths = raw_data.loc[raw_data[\"CLASS\"]==0, \"CONTENT\"].str.len()\n",
    "\n",
    "# Plot distribution of spam and ham lengths\n",
    "fig, ax = plt.subplots(nrows=3, ncols=1, figsize=(10,10))\n",
    "\n",
    "ax[0].hist(spam_lengths, bins=30, color=\"red\", edgecolor=\"red\", alpha=0.5)\n",
    "ax[0].set_title(\"Distribution of spam comment lengths\")\n",
    "ax[0].set_xlabel(\"Length\")\n",
    "ax[0].set_ylabel(\"Counts\")\n",
    "\n",
    "ax[1].hist(ham_lengths, bins=30, color=\"green\", edgecolor=\"green\", alpha=0.5)\n",
    "ax[1].set_title(\"Distribution of ham comment lengths\")\n",
    "ax[1].set_xlabel(\"Length\")\n",
    "ax[1].set_ylabel(\"Counts\")\n",
    "\n",
    "ax[2].bar( x=1, height=(raw_data[\"CLASS\"]==1).sum(), width =0.5, color='red', edgecolor=\"red\", alpha=0.6, label=\"Spam\")\n",
    "ax[2].bar( x=2, height=(raw_data[\"CLASS\"]==0).sum(), width =0.5, color='green', edgecolor=\"green\", alpha=0.6, label=\"Ham\")\n",
    "ax[2].set_xticks([1, 2])\n",
    "ax[2].set_xticklabels(['Spam', 'Ham'])\n",
    "ax[2].set_title(\"Number of spam vs ham comments\")\n",
    "ax[2].set_xlabel(\"Categories\")\n",
    "ax[2].set_ylabel(\"Counts\")\n",
    "\n",
    "plt.tight_layout()\n",
    "plt.show()"
   ]
  },
  {
   "cell_type": "markdown",
   "id": "a613179b-6660-47e9-8230-51d4d5b20d7d",
   "metadata": {},
   "source": [
    "<h4 style=\"color:#874c62;\">6. Analysis of <b>CONTENT</b> field.</h4>"
   ]
  },
  {
   "cell_type": "markdown",
   "id": "38025e87-e49a-4702-b3b1-18cd3dd85ea6",
   "metadata": {},
   "source": [
    "<div style=\"background-color: rgba(120,120,200,0.25); padding: 10px;\">\n",
    "    <h5>Analysis of CONTENT<br></h5>\n",
    "        <body>\n",
    "            <ul>\n",
    "                <li>\n",
    "                    Based on a summary statistical analysis there aren't many features that distinguish between spam and ham comments.\n",
    "                </li>\n",
    "                <li>\n",
    "                    Both spam and ham comments show similarly skewed distribution, with most of them having total character counts bounded between 0 - 200 characters. \n",
    "                </li>\n",
    "                <li>\n",
    "                    The longest spam message has more characters than the longest ham message, however, the statistical relevance of this is undecided.\n",
    "                </li>\n",
    "                <li>\n",
    "                    It is not immediately clear if including content length as a feature will improve the performance of a classifier.\n",
    "                </li>\n",
    "                <li>\n",
    "                    The data set is balanced with roughly the same number of spam and ham examples.\n",
    "                </li>\n",
    "            </ul>\n",
    "    </body>\n",
    "</div>"
   ]
  },
  {
   "cell_type": "markdown",
   "id": "f4516303-1c1b-48cd-a03d-cef481e8f161",
   "metadata": {},
   "source": [
    "<h3 style=\"color:maroon;\">B. Data preparation</h3>\n",
    "<h4 style=\"color:teal;\">(<b>Primary Contributor:</b> <u>Uday</u> | <b>Reviewer:</b> <u>Salma</u>)</h4>"
   ]
  },
  {
   "cell_type": "markdown",
   "id": "23f01fe8-5fc1-4b37-9269-d9259b5f245e",
   "metadata": {},
   "source": [
    "<h4 style=\"color:#874c62;\">1. Prepare new dataframe with only <b>CONTENT</b> and <b>CLASS</b> fields.</h4>"
   ]
  },
  {
   "cell_type": "code",
   "execution_count": 7,
   "id": "c68ea3b3-b97b-41d8-913d-12756b8545b3",
   "metadata": {},
   "outputs": [],
   "source": [
    "# Create new dataframe with appropriate fields\n",
    "proc_data = raw_data[[\"CLASS\",\"CONTENT\"]].copy() # Use copy to supress slice warning (we want a copy not a slice referencing the memory location of raw_data)"
   ]
  },
  {
   "cell_type": "code",
   "execution_count": 8,
   "id": "3a455a32-6cc2-4949-b331-f9aa10074aba",
   "metadata": {},
   "outputs": [
    {
     "name": "stdout",
     "output_type": "stream",
     "text": [
      "\u001b[94m\u001b[1mShape of data frame:\u001b[0m\n",
      "(350, 2)\n",
      "\n",
      "\u001b[94m\u001b[1mData frame fields:\u001b[0m\n",
      "Index(['CLASS', 'CONTENT'], dtype='object')\n",
      "\n",
      "\u001b[94m\u001b[1mData frame info:\u001b[0m\n",
      "<class 'pandas.core.frame.DataFrame'>\n",
      "RangeIndex: 350 entries, 0 to 349\n",
      "Data columns (total 2 columns):\n",
      " #   Column   Non-Null Count  Dtype \n",
      "---  ------   --------------  ----- \n",
      " 0   CLASS    350 non-null    int64 \n",
      " 1   CONTENT  350 non-null    object\n",
      "dtypes: int64(1), object(1)\n",
      "memory usage: 5.6+ KB\n",
      "\n",
      "\u001b[94m\u001b[1mUnique entries per attribute:\u001b[0m\n",
      "CLASS        2\n",
      "CONTENT    349\n",
      "dtype: int64\n",
      "\n",
      "\u001b[94m\u001b[1mData frame head:\u001b[0m\n"
     ]
    },
    {
     "data": {
      "text/html": [
       "<div>\n",
       "<style scoped>\n",
       "    .dataframe tbody tr th:only-of-type {\n",
       "        vertical-align: middle;\n",
       "    }\n",
       "\n",
       "    .dataframe tbody tr th {\n",
       "        vertical-align: top;\n",
       "    }\n",
       "\n",
       "    .dataframe thead th {\n",
       "        text-align: right;\n",
       "    }\n",
       "</style>\n",
       "<table border=\"1\" class=\"dataframe\">\n",
       "  <thead>\n",
       "    <tr style=\"text-align: right;\">\n",
       "      <th></th>\n",
       "      <th>CLASS</th>\n",
       "      <th>CONTENT</th>\n",
       "    </tr>\n",
       "  </thead>\n",
       "  <tbody>\n",
       "    <tr>\n",
       "      <th>0</th>\n",
       "      <td>1</td>\n",
       "      <td>Huh, anyway check out this you[tube] channel: ...</td>\n",
       "    </tr>\n",
       "    <tr>\n",
       "      <th>1</th>\n",
       "      <td>1</td>\n",
       "      <td>Hey guys check out my new channel and our firs...</td>\n",
       "    </tr>\n",
       "    <tr>\n",
       "      <th>2</th>\n",
       "      <td>1</td>\n",
       "      <td>just for test I have to say murdev.com</td>\n",
       "    </tr>\n",
       "  </tbody>\n",
       "</table>\n",
       "</div>"
      ],
      "text/plain": [
       "   CLASS                                            CONTENT\n",
       "0      1  Huh, anyway check out this you[tube] channel: ...\n",
       "1      1  Hey guys check out my new channel and our firs...\n",
       "2      1             just for test I have to say murdev.com"
      ]
     },
     "execution_count": 8,
     "metadata": {},
     "output_type": "execute_result"
    }
   ],
   "source": [
    "# Inspect the dataframe\n",
    "print(Colors.BLUE + \"Shape of data frame:\" + Colors.END)\n",
    "print(proc_data.shape)\n",
    "print(\"\")\n",
    "\n",
    "print(Colors.BLUE + \"Data frame fields:\" + Colors.END)\n",
    "print(proc_data.columns)\n",
    "print(\"\")\n",
    "\n",
    "print(Colors.BLUE + \"Data frame info:\" + Colors.END)\n",
    "proc_data.info()\n",
    "print(\"\")\n",
    "\n",
    "print(Colors.BLUE + \"Unique entries per attribute:\" + Colors.END)\n",
    "print(proc_data.nunique())\n",
    "print(\"\")\n",
    "\n",
    "print(Colors.BLUE + \"Data frame head:\" + Colors.END)\n",
    "proc_data.head(3)"
   ]
  },
  {
   "cell_type": "markdown",
   "id": "495528ea-b536-42a3-9c6b-d907f954e0c2",
   "metadata": {},
   "source": [
    "<h4 style=\"color:#874c62;\">2. Convert text to lowercase.</h4>"
   ]
  },
  {
   "cell_type": "code",
   "execution_count": 9,
   "id": "2322ba6a-103f-48c0-9c1b-089c78b02539",
   "metadata": {},
   "outputs": [],
   "source": [
    "proc_data[\"PROC_CONTENT\"] = proc_data[\"CONTENT\"].apply(lambda x: x.lower())"
   ]
  },
  {
   "cell_type": "code",
   "execution_count": 10,
   "id": "2ecc3d75-281e-45bf-97a6-9b098a0b0018",
   "metadata": {},
   "outputs": [
    {
     "name": "stdout",
     "output_type": "stream",
     "text": [
      "\u001b[94m\u001b[1mData frame head:\u001b[0m\n"
     ]
    },
    {
     "data": {
      "text/html": [
       "<div>\n",
       "<style scoped>\n",
       "    .dataframe tbody tr th:only-of-type {\n",
       "        vertical-align: middle;\n",
       "    }\n",
       "\n",
       "    .dataframe tbody tr th {\n",
       "        vertical-align: top;\n",
       "    }\n",
       "\n",
       "    .dataframe thead th {\n",
       "        text-align: right;\n",
       "    }\n",
       "</style>\n",
       "<table border=\"1\" class=\"dataframe\">\n",
       "  <thead>\n",
       "    <tr style=\"text-align: right;\">\n",
       "      <th></th>\n",
       "      <th>CLASS</th>\n",
       "      <th>CONTENT</th>\n",
       "      <th>PROC_CONTENT</th>\n",
       "    </tr>\n",
       "  </thead>\n",
       "  <tbody>\n",
       "    <tr>\n",
       "      <th>0</th>\n",
       "      <td>1</td>\n",
       "      <td>Huh, anyway check out this you[tube] channel: ...</td>\n",
       "      <td>huh, anyway check out this you[tube] channel: ...</td>\n",
       "    </tr>\n",
       "    <tr>\n",
       "      <th>1</th>\n",
       "      <td>1</td>\n",
       "      <td>Hey guys check out my new channel and our firs...</td>\n",
       "      <td>hey guys check out my new channel and our firs...</td>\n",
       "    </tr>\n",
       "    <tr>\n",
       "      <th>2</th>\n",
       "      <td>1</td>\n",
       "      <td>just for test I have to say murdev.com</td>\n",
       "      <td>just for test i have to say murdev.com</td>\n",
       "    </tr>\n",
       "  </tbody>\n",
       "</table>\n",
       "</div>"
      ],
      "text/plain": [
       "   CLASS                                            CONTENT  \\\n",
       "0      1  Huh, anyway check out this you[tube] channel: ...   \n",
       "1      1  Hey guys check out my new channel and our firs...   \n",
       "2      1             just for test I have to say murdev.com   \n",
       "\n",
       "                                        PROC_CONTENT  \n",
       "0  huh, anyway check out this you[tube] channel: ...  \n",
       "1  hey guys check out my new channel and our firs...  \n",
       "2             just for test i have to say murdev.com  "
      ]
     },
     "execution_count": 10,
     "metadata": {},
     "output_type": "execute_result"
    }
   ],
   "source": [
    "print(Colors.BLUE + \"Data frame head:\" + Colors.END)\n",
    "proc_data.head(3)"
   ]
  },
  {
   "cell_type": "markdown",
   "id": "9d11ff19-43a9-4835-a6e6-20589b564dec",
   "metadata": {},
   "source": [
    "<h4 style=\"color:#874c62;\">3. Tokenize words.</h4>"
   ]
  },
  {
   "cell_type": "code",
   "execution_count": 11,
   "id": "8f21a65d-75a7-4935-bf1f-3d3c0471aed1",
   "metadata": {},
   "outputs": [],
   "source": [
    "proc_data[\"PROC_CONTENT\"] = proc_data[\"PROC_CONTENT\"].apply(lambda x: WordPunctTokenizer().tokenize(x))"
   ]
  },
  {
   "cell_type": "code",
   "execution_count": 12,
   "id": "6b25aec0-aece-42b5-a840-1758fdf51b39",
   "metadata": {},
   "outputs": [
    {
     "name": "stdout",
     "output_type": "stream",
     "text": [
      "\u001b[94m\u001b[1mData frame head:\u001b[0m\n"
     ]
    },
    {
     "data": {
      "text/html": [
       "<div>\n",
       "<style scoped>\n",
       "    .dataframe tbody tr th:only-of-type {\n",
       "        vertical-align: middle;\n",
       "    }\n",
       "\n",
       "    .dataframe tbody tr th {\n",
       "        vertical-align: top;\n",
       "    }\n",
       "\n",
       "    .dataframe thead th {\n",
       "        text-align: right;\n",
       "    }\n",
       "</style>\n",
       "<table border=\"1\" class=\"dataframe\">\n",
       "  <thead>\n",
       "    <tr style=\"text-align: right;\">\n",
       "      <th></th>\n",
       "      <th>CLASS</th>\n",
       "      <th>CONTENT</th>\n",
       "      <th>PROC_CONTENT</th>\n",
       "    </tr>\n",
       "  </thead>\n",
       "  <tbody>\n",
       "    <tr>\n",
       "      <th>0</th>\n",
       "      <td>1</td>\n",
       "      <td>Huh, anyway check out this you[tube] channel: ...</td>\n",
       "      <td>[huh, ,, anyway, check, out, this, you, [, tub...</td>\n",
       "    </tr>\n",
       "    <tr>\n",
       "      <th>1</th>\n",
       "      <td>1</td>\n",
       "      <td>Hey guys check out my new channel and our firs...</td>\n",
       "      <td>[hey, guys, check, out, my, new, channel, and,...</td>\n",
       "    </tr>\n",
       "    <tr>\n",
       "      <th>2</th>\n",
       "      <td>1</td>\n",
       "      <td>just for test I have to say murdev.com</td>\n",
       "      <td>[just, for, test, i, have, to, say, murdev, .,...</td>\n",
       "    </tr>\n",
       "  </tbody>\n",
       "</table>\n",
       "</div>"
      ],
      "text/plain": [
       "   CLASS                                            CONTENT  \\\n",
       "0      1  Huh, anyway check out this you[tube] channel: ...   \n",
       "1      1  Hey guys check out my new channel and our firs...   \n",
       "2      1             just for test I have to say murdev.com   \n",
       "\n",
       "                                        PROC_CONTENT  \n",
       "0  [huh, ,, anyway, check, out, this, you, [, tub...  \n",
       "1  [hey, guys, check, out, my, new, channel, and,...  \n",
       "2  [just, for, test, i, have, to, say, murdev, .,...  "
      ]
     },
     "execution_count": 12,
     "metadata": {},
     "output_type": "execute_result"
    }
   ],
   "source": [
    "print(Colors.BLUE + \"Data frame head:\" + Colors.END)\n",
    "proc_data.head(3)"
   ]
  },
  {
   "cell_type": "markdown",
   "id": "8fee9aac-9c58-473c-bc49-6550cfc80c18",
   "metadata": {},
   "source": [
    "<h4 style=\"color:#874c62;\">4. Remove stop words.</h4>"
   ]
  },
  {
   "cell_type": "code",
   "execution_count": 13,
   "id": "c5683a11-d398-4523-a6b3-301b06df6643",
   "metadata": {},
   "outputs": [],
   "source": [
    "stop_words = set(stopwords.words('english'))\n",
    "\n",
    "def remove_stopwords(tokens):\n",
    "    return [word for word in tokens if word not in stop_words]\n",
    "\n",
    "proc_data[\"PROC_CONTENT\"] = proc_data[\"PROC_CONTENT\"].apply(remove_stopwords)"
   ]
  },
  {
   "cell_type": "code",
   "execution_count": 14,
   "id": "727b7fef-6819-4e20-9cbc-1c6ac96ca797",
   "metadata": {},
   "outputs": [
    {
     "name": "stdout",
     "output_type": "stream",
     "text": [
      "\u001b[94m\u001b[1mData frame head:\u001b[0m\n"
     ]
    },
    {
     "data": {
      "text/html": [
       "<div>\n",
       "<style scoped>\n",
       "    .dataframe tbody tr th:only-of-type {\n",
       "        vertical-align: middle;\n",
       "    }\n",
       "\n",
       "    .dataframe tbody tr th {\n",
       "        vertical-align: top;\n",
       "    }\n",
       "\n",
       "    .dataframe thead th {\n",
       "        text-align: right;\n",
       "    }\n",
       "</style>\n",
       "<table border=\"1\" class=\"dataframe\">\n",
       "  <thead>\n",
       "    <tr style=\"text-align: right;\">\n",
       "      <th></th>\n",
       "      <th>CLASS</th>\n",
       "      <th>CONTENT</th>\n",
       "      <th>PROC_CONTENT</th>\n",
       "    </tr>\n",
       "  </thead>\n",
       "  <tbody>\n",
       "    <tr>\n",
       "      <th>0</th>\n",
       "      <td>1</td>\n",
       "      <td>Huh, anyway check out this you[tube] channel: ...</td>\n",
       "      <td>[huh, ,, anyway, check, [, tube, ], channel, :...</td>\n",
       "    </tr>\n",
       "    <tr>\n",
       "      <th>1</th>\n",
       "      <td>1</td>\n",
       "      <td>Hey guys check out my new channel and our firs...</td>\n",
       "      <td>[hey, guys, check, new, channel, first, vid, u...</td>\n",
       "    </tr>\n",
       "    <tr>\n",
       "      <th>2</th>\n",
       "      <td>1</td>\n",
       "      <td>just for test I have to say murdev.com</td>\n",
       "      <td>[test, say, murdev, ., com]</td>\n",
       "    </tr>\n",
       "  </tbody>\n",
       "</table>\n",
       "</div>"
      ],
      "text/plain": [
       "   CLASS                                            CONTENT  \\\n",
       "0      1  Huh, anyway check out this you[tube] channel: ...   \n",
       "1      1  Hey guys check out my new channel and our firs...   \n",
       "2      1             just for test I have to say murdev.com   \n",
       "\n",
       "                                        PROC_CONTENT  \n",
       "0  [huh, ,, anyway, check, [, tube, ], channel, :...  \n",
       "1  [hey, guys, check, new, channel, first, vid, u...  \n",
       "2                        [test, say, murdev, ., com]  "
      ]
     },
     "execution_count": 14,
     "metadata": {},
     "output_type": "execute_result"
    }
   ],
   "source": [
    "print(Colors.BLUE + \"Data frame head:\" + Colors.END)\n",
    "proc_data.head(3)"
   ]
  },
  {
   "cell_type": "markdown",
   "id": "2f759852-ba29-4111-b564-4414d023a4ee",
   "metadata": {},
   "source": [
    "<h4 style=\"color:#874c62;\">5. Remove non-alpha numeric characters.</h4>"
   ]
  },
  {
   "cell_type": "code",
   "execution_count": 15,
   "id": "01191e3e-41c5-4cd4-9002-23e10611c27e",
   "metadata": {},
   "outputs": [],
   "source": [
    "def remove_punct(tokens):\n",
    "    return [word for word in tokens if word.isalnum()]\n",
    "\n",
    "proc_data[\"PROC_CONTENT\"] = proc_data[\"PROC_CONTENT\"].apply(remove_punct)"
   ]
  },
  {
   "cell_type": "code",
   "execution_count": 16,
   "id": "208553cc-934f-41db-8a11-c3553431fdfd",
   "metadata": {},
   "outputs": [
    {
     "name": "stdout",
     "output_type": "stream",
     "text": [
      "\u001b[94m\u001b[1mData frame head:\u001b[0m\n"
     ]
    },
    {
     "data": {
      "text/html": [
       "<div>\n",
       "<style scoped>\n",
       "    .dataframe tbody tr th:only-of-type {\n",
       "        vertical-align: middle;\n",
       "    }\n",
       "\n",
       "    .dataframe tbody tr th {\n",
       "        vertical-align: top;\n",
       "    }\n",
       "\n",
       "    .dataframe thead th {\n",
       "        text-align: right;\n",
       "    }\n",
       "</style>\n",
       "<table border=\"1\" class=\"dataframe\">\n",
       "  <thead>\n",
       "    <tr style=\"text-align: right;\">\n",
       "      <th></th>\n",
       "      <th>CLASS</th>\n",
       "      <th>CONTENT</th>\n",
       "      <th>PROC_CONTENT</th>\n",
       "    </tr>\n",
       "  </thead>\n",
       "  <tbody>\n",
       "    <tr>\n",
       "      <th>0</th>\n",
       "      <td>1</td>\n",
       "      <td>Huh, anyway check out this you[tube] channel: ...</td>\n",
       "      <td>[huh, anyway, check, tube, channel, kobyoshi02]</td>\n",
       "    </tr>\n",
       "    <tr>\n",
       "      <th>1</th>\n",
       "      <td>1</td>\n",
       "      <td>Hey guys check out my new channel and our firs...</td>\n",
       "      <td>[hey, guys, check, new, channel, first, vid, u...</td>\n",
       "    </tr>\n",
       "    <tr>\n",
       "      <th>2</th>\n",
       "      <td>1</td>\n",
       "      <td>just for test I have to say murdev.com</td>\n",
       "      <td>[test, say, murdev, com]</td>\n",
       "    </tr>\n",
       "  </tbody>\n",
       "</table>\n",
       "</div>"
      ],
      "text/plain": [
       "   CLASS                                            CONTENT  \\\n",
       "0      1  Huh, anyway check out this you[tube] channel: ...   \n",
       "1      1  Hey guys check out my new channel and our firs...   \n",
       "2      1             just for test I have to say murdev.com   \n",
       "\n",
       "                                        PROC_CONTENT  \n",
       "0    [huh, anyway, check, tube, channel, kobyoshi02]  \n",
       "1  [hey, guys, check, new, channel, first, vid, u...  \n",
       "2                           [test, say, murdev, com]  "
      ]
     },
     "execution_count": 16,
     "metadata": {},
     "output_type": "execute_result"
    }
   ],
   "source": [
    "print(Colors.BLUE + \"Data frame head:\" + Colors.END)\n",
    "proc_data.head(3)"
   ]
  },
  {
   "cell_type": "markdown",
   "id": "c6dad209-3b8f-4893-b619-294e52715f69",
   "metadata": {},
   "source": [
    "<h4 style=\"color:#874c62;\">6. Lemmatize words.</h4>"
   ]
  },
  {
   "cell_type": "code",
   "execution_count": 17,
   "id": "6f66a8f9-6cad-4449-91df-ad57d20c10d8",
   "metadata": {},
   "outputs": [],
   "source": [
    "def lemmatize_words(tokens):\n",
    "    lemmatizer = WordNetLemmatizer()\n",
    "    return [lemmatizer.lemmatize(token) for token in tokens]\n",
    "\n",
    "proc_data[\"PROC_CONTENT\"] = proc_data[\"PROC_CONTENT\"].apply(lemmatize_words)"
   ]
  },
  {
   "cell_type": "code",
   "execution_count": 18,
   "id": "b8f74bdf-381e-4a59-bb11-aabfa5294fe7",
   "metadata": {},
   "outputs": [
    {
     "name": "stdout",
     "output_type": "stream",
     "text": [
      "\u001b[94m\u001b[1mData frame head:\u001b[0m\n"
     ]
    },
    {
     "data": {
      "text/html": [
       "<div>\n",
       "<style scoped>\n",
       "    .dataframe tbody tr th:only-of-type {\n",
       "        vertical-align: middle;\n",
       "    }\n",
       "\n",
       "    .dataframe tbody tr th {\n",
       "        vertical-align: top;\n",
       "    }\n",
       "\n",
       "    .dataframe thead th {\n",
       "        text-align: right;\n",
       "    }\n",
       "</style>\n",
       "<table border=\"1\" class=\"dataframe\">\n",
       "  <thead>\n",
       "    <tr style=\"text-align: right;\">\n",
       "      <th></th>\n",
       "      <th>CLASS</th>\n",
       "      <th>CONTENT</th>\n",
       "      <th>PROC_CONTENT</th>\n",
       "    </tr>\n",
       "  </thead>\n",
       "  <tbody>\n",
       "    <tr>\n",
       "      <th>0</th>\n",
       "      <td>1</td>\n",
       "      <td>Huh, anyway check out this you[tube] channel: ...</td>\n",
       "      <td>[huh, anyway, check, tube, channel, kobyoshi02]</td>\n",
       "    </tr>\n",
       "    <tr>\n",
       "      <th>1</th>\n",
       "      <td>1</td>\n",
       "      <td>Hey guys check out my new channel and our firs...</td>\n",
       "      <td>[hey, guy, check, new, channel, first, vid, u,...</td>\n",
       "    </tr>\n",
       "    <tr>\n",
       "      <th>2</th>\n",
       "      <td>1</td>\n",
       "      <td>just for test I have to say murdev.com</td>\n",
       "      <td>[test, say, murdev, com]</td>\n",
       "    </tr>\n",
       "  </tbody>\n",
       "</table>\n",
       "</div>"
      ],
      "text/plain": [
       "   CLASS                                            CONTENT  \\\n",
       "0      1  Huh, anyway check out this you[tube] channel: ...   \n",
       "1      1  Hey guys check out my new channel and our firs...   \n",
       "2      1             just for test I have to say murdev.com   \n",
       "\n",
       "                                        PROC_CONTENT  \n",
       "0    [huh, anyway, check, tube, channel, kobyoshi02]  \n",
       "1  [hey, guy, check, new, channel, first, vid, u,...  \n",
       "2                           [test, say, murdev, com]  "
      ]
     },
     "execution_count": 18,
     "metadata": {},
     "output_type": "execute_result"
    }
   ],
   "source": [
    "print(Colors.BLUE + \"Data frame head:\" + Colors.END)\n",
    "proc_data.head(3)"
   ]
  },
  {
   "cell_type": "markdown",
   "id": "3fcb6333-156e-4fdd-9ba3-42fe3a94c63d",
   "metadata": {},
   "source": [
    "<h4 style=\"color:#874c62;\">7. Re-assemble string post processing.</h4>"
   ]
  },
  {
   "cell_type": "code",
   "execution_count": 19,
   "id": "871aeb30-b3d3-4570-8dbc-84cc48d19479",
   "metadata": {},
   "outputs": [],
   "source": [
    "def join_words(tokens):\n",
    "    return \" \".join(tokens)\n",
    "\n",
    "proc_data[\"PROC_CONTENT\"] = proc_data[\"PROC_CONTENT\"].apply(join_words)"
   ]
  },
  {
   "cell_type": "code",
   "execution_count": 20,
   "id": "c1e1aeee-5f3f-4fd7-8304-0a35a3e0ec9e",
   "metadata": {},
   "outputs": [
    {
     "name": "stdout",
     "output_type": "stream",
     "text": [
      "\u001b[94m\u001b[1mData frame head:\u001b[0m\n"
     ]
    },
    {
     "data": {
      "text/html": [
       "<div>\n",
       "<style scoped>\n",
       "    .dataframe tbody tr th:only-of-type {\n",
       "        vertical-align: middle;\n",
       "    }\n",
       "\n",
       "    .dataframe tbody tr th {\n",
       "        vertical-align: top;\n",
       "    }\n",
       "\n",
       "    .dataframe thead th {\n",
       "        text-align: right;\n",
       "    }\n",
       "</style>\n",
       "<table border=\"1\" class=\"dataframe\">\n",
       "  <thead>\n",
       "    <tr style=\"text-align: right;\">\n",
       "      <th></th>\n",
       "      <th>CLASS</th>\n",
       "      <th>CONTENT</th>\n",
       "      <th>PROC_CONTENT</th>\n",
       "    </tr>\n",
       "  </thead>\n",
       "  <tbody>\n",
       "    <tr>\n",
       "      <th>0</th>\n",
       "      <td>1</td>\n",
       "      <td>Huh, anyway check out this you[tube] channel: ...</td>\n",
       "      <td>huh anyway check tube channel kobyoshi02</td>\n",
       "    </tr>\n",
       "    <tr>\n",
       "      <th>1</th>\n",
       "      <td>1</td>\n",
       "      <td>Hey guys check out my new channel and our firs...</td>\n",
       "      <td>hey guy check new channel first vid u monkey m...</td>\n",
       "    </tr>\n",
       "    <tr>\n",
       "      <th>2</th>\n",
       "      <td>1</td>\n",
       "      <td>just for test I have to say murdev.com</td>\n",
       "      <td>test say murdev com</td>\n",
       "    </tr>\n",
       "  </tbody>\n",
       "</table>\n",
       "</div>"
      ],
      "text/plain": [
       "   CLASS                                            CONTENT  \\\n",
       "0      1  Huh, anyway check out this you[tube] channel: ...   \n",
       "1      1  Hey guys check out my new channel and our firs...   \n",
       "2      1             just for test I have to say murdev.com   \n",
       "\n",
       "                                        PROC_CONTENT  \n",
       "0           huh anyway check tube channel kobyoshi02  \n",
       "1  hey guy check new channel first vid u monkey m...  \n",
       "2                                test say murdev com  "
      ]
     },
     "execution_count": 20,
     "metadata": {},
     "output_type": "execute_result"
    }
   ],
   "source": [
    "print(Colors.BLUE + \"Data frame head:\" + Colors.END)\n",
    "proc_data.head(3)"
   ]
  },
  {
   "cell_type": "markdown",
   "id": "9f820234-01ce-4101-90fb-bd238021da25",
   "metadata": {},
   "source": [
    "<h3 style=\"color:white; background-color:#000000;padding: 10px;\">Consolidate text preprocessing into a pipeline</h3>"
   ]
  },
  {
   "cell_type": "code",
   "execution_count": 21,
   "id": "37b18044-297a-44dc-9771-e2f42688903b",
   "metadata": {},
   "outputs": [],
   "source": [
    "# Text processing pipeline\n",
    "def process_text (text):\n",
    "    '''Process text for vectorization'''\n",
    "    \n",
    "    # Set up\n",
    "    stop_words = set(stopwords.words('english'))\n",
    "    lemmatizer = WordNetLemmatizer()\n",
    "\n",
    "    # Process\n",
    "    text = text.lower()\n",
    "    text = WordPunctTokenizer().tokenize(text)\n",
    "    text = [word for word in text if word.isalnum()]\n",
    "    text = [word for word in text if word not in stop_words]\n",
    "    text = [lemmatizer.lemmatize(word) for word in text]\n",
    "    text = \" \".join(text)\n",
    "\n",
    "    # Return processed text\n",
    "    return text"
   ]
  },
  {
   "cell_type": "markdown",
   "id": "a5a03dfb-fca3-48a8-907a-33f866485bcc",
   "metadata": {},
   "source": [
    "<h3 style=\"color:maroon;\">C. Vectorization</h3>\n",
    "<h4 style=\"color:teal;\">(<b>Primary Contributor:</b> <u>Shahrier</u> | <b>Reviewer:</b> <u>Uday</u>)</h4>"
   ]
  },
  {
   "cell_type": "markdown",
   "id": "0914bdff-232c-4c87-8596-a49eee889d05",
   "metadata": {},
   "source": [
    "<h4 style=\"color:#874c62;\">1. Vectorize string with count vectorizer.</h4>"
   ]
  },
  {
   "cell_type": "code",
   "execution_count": 22,
   "id": "8a1af73a-363a-4600-a89b-bd5e31c1eb65",
   "metadata": {},
   "outputs": [],
   "source": [
    "vectorizer = CountVectorizer()\n",
    "bow_sparse_matrix = vectorizer.fit_transform(proc_data['PROC_CONTENT'])"
   ]
  },
  {
   "cell_type": "code",
   "execution_count": 23,
   "id": "51ae4726-28a4-421c-9486-9314d34d01d0",
   "metadata": {},
   "outputs": [
    {
     "name": "stdout",
     "output_type": "stream",
     "text": [
      "\u001b[94m\u001b[1mType of object returned by CountVectorizer().fit_transform:\u001b[0m\n",
      "<class 'scipy.sparse._csr.csr_matrix'>\n",
      "\u001b[94m\u001b[1mShape of sparse matrix returned by CountVectorizer().fit_transform:\u001b[0m\n",
      "(350, 1229)\n",
      "\u001b[94m\u001b[1mDensity of sparse matrix returned by CountVectorizer().fit_transform:\u001b[0m\n",
      "0.006534929675694526\n",
      "\u001b[94m\u001b[1mSum sparse matrix returned by CountVectorizer().fit_transform:\u001b[0m\n",
      "3152\n"
     ]
    }
   ],
   "source": [
    "print(Colors.BLUE + \"Type of object returned by CountVectorizer().fit_transform:\" + Colors.END)\n",
    "print(type(bow_sparse_matrix))\n",
    "\n",
    "print(Colors.BLUE + \"Shape of sparse matrix returned by CountVectorizer().fit_transform:\" + Colors.END)\n",
    "print(bow_sparse_matrix.shape)\n",
    "\n",
    "print(Colors.BLUE + \"Density of sparse matrix returned by CountVectorizer().fit_transform:\" + Colors.END)\n",
    "print( bow_sparse_matrix.nnz / (bow_sparse_matrix.shape[0]*bow_sparse_matrix.shape[1]) )\n",
    "\n",
    "print(Colors.BLUE + \"Sum sparse matrix returned by CountVectorizer().fit_transform:\" + Colors.END)\n",
    "print( bow_sparse_matrix.toarray().sum() )"
   ]
  },
  {
   "cell_type": "markdown",
   "id": "3c5fe0f8-500b-45f7-9f2c-ffeadf86aceb",
   "metadata": {},
   "source": [
    "<h4 style=\"color:#874c62;\">2. Downscaling with TF-IDF.</h4>"
   ]
  },
  {
   "cell_type": "code",
   "execution_count": 24,
   "id": "ad9d8f0c-2d67-49a1-b1db-aa9e368f281d",
   "metadata": {},
   "outputs": [],
   "source": [
    "tfidf_transformer = TfidfTransformer()\n",
    "tfidf_sparse_matrix = tfidf_transformer.fit_transform(bow_sparse_matrix)"
   ]
  },
  {
   "cell_type": "code",
   "execution_count": 25,
   "id": "b783a563-d1a6-484d-b007-922e5e23ec13",
   "metadata": {},
   "outputs": [
    {
     "name": "stdout",
     "output_type": "stream",
     "text": [
      "\u001b[94m\u001b[1mType of object returned by TfidTransformer().fit_transform:\u001b[0m\n",
      "<class 'scipy.sparse._csr.csr_matrix'>\n",
      "\u001b[94m\u001b[1mShape of sparse matrix returned by TfidTransformer().fit_transform:\u001b[0m\n",
      "(350, 1229)\n",
      "\u001b[94m\u001b[1mDensity of sparse matrix returned by TfidTransformer().fit_transform:\u001b[0m\n",
      "0.006534929675694526\n",
      "\u001b[94m\u001b[1mSum sparse matrix returned by TfidTransformer().fit_transform:\u001b[0m\n",
      "881.1320986498287\n"
     ]
    }
   ],
   "source": [
    "print(Colors.BLUE + \"Type of object returned by TfidTransformer().fit_transform:\" + Colors.END)\n",
    "print(type(tfidf_sparse_matrix))\n",
    "\n",
    "print(Colors.BLUE + \"Shape of sparse matrix returned by TfidTransformer().fit_transform:\" + Colors.END)\n",
    "print(tfidf_sparse_matrix.shape)\n",
    "\n",
    "print(Colors.BLUE + \"Density of sparse matrix returned by TfidTransformer().fit_transform:\" + Colors.END)\n",
    "print( tfidf_sparse_matrix.nnz / (tfidf_sparse_matrix.shape[0]*tfidf_sparse_matrix.shape[1]) )\n",
    "\n",
    "print(Colors.BLUE + \"Sum sparse matrix returned by TfidTransformer().fit_transform:\" + Colors.END)\n",
    "print( tfidf_sparse_matrix.toarray().sum() )"
   ]
  },
  {
   "cell_type": "markdown",
   "id": "81a0d501-1dbe-411a-86d5-c4098deee426",
   "metadata": {},
   "source": [
    "<h4 style=\"color:#874c62;\">3. Create the feature matrix.</h4>"
   ]
  },
  {
   "cell_type": "code",
   "execution_count": 26,
   "id": "37b5f091-5b93-4761-978c-89ba4156bb28",
   "metadata": {},
   "outputs": [],
   "source": [
    "feature_names = vectorizer.get_feature_names_out();\n",
    "tfidf_df = pd.DataFrame(tfidf_sparse_matrix.toarray(), columns=feature_names)\n",
    "feat_mat = pd.concat([proc_data[\"CLASS\"],tfidf_df], axis = 1)"
   ]
  },
  {
   "cell_type": "code",
   "execution_count": 27,
   "id": "f1041237-1613-4ce9-a2c0-c28f30f761ac",
   "metadata": {},
   "outputs": [
    {
     "name": "stdout",
     "output_type": "stream",
     "text": [
      "\u001b[94m\u001b[1mShape of feature matrix:\u001b[0m\n",
      "(350, 1230)\n",
      "\u001b[94m\u001b[1mHead of feature matrix:\u001b[0m\n",
      "   CLASS   00  000   02  034   05   08   10  100  100000415527985  ...   yt  \\\n",
      "0      1  0.0  0.0  0.0  0.0  0.0  0.0  0.0  0.0              0.0  ...  0.0   \n",
      "1      1  0.0  0.0  0.0  0.0  0.0  0.0  0.0  0.0              0.0  ...  0.0   \n",
      "2      1  0.0  0.0  0.0  0.0  0.0  0.0  0.0  0.0              0.0  ...  0.0   \n",
      "\n",
      "   zero  zombie  zxlightsoutxz  강남스타일  ｃｏｍｍｅｎｔ  ｄａｍｎ  ｆａｎｃy   ｉｓ  ｔｈｉｓ  \n",
      "0   0.0     0.0            0.0    0.0      0.0   0.0    0.0  0.0   0.0  \n",
      "1   0.0     0.0            0.0    0.0      0.0   0.0    0.0  0.0   0.0  \n",
      "2   0.0     0.0            0.0    0.0      0.0   0.0    0.0  0.0   0.0  \n",
      "\n",
      "[3 rows x 1230 columns]\n"
     ]
    }
   ],
   "source": [
    "print(Colors.BLUE + \"Shape of feature matrix:\" + Colors.END)\n",
    "print( feat_mat.shape )\n",
    "\n",
    "print(Colors.BLUE + \"Head of feature matrix:\" + Colors.END)\n",
    "print( feat_mat.head(3) )"
   ]
  },
  {
   "cell_type": "markdown",
   "id": "b1cf6e2b-9fbb-4347-8788-09e791ac6230",
   "metadata": {},
   "source": [
    "<h4 style=\"color:#874c62;\">4. Shuffle the data.</h4>"
   ]
  },
  {
   "cell_type": "code",
   "execution_count": 28,
   "id": "6ed87bba-64de-4fff-88c1-677d7f0df7c2",
   "metadata": {},
   "outputs": [],
   "source": [
    "shuffled_feat_mat = feat_mat.sample(frac=1, random_state=1)"
   ]
  },
  {
   "cell_type": "code",
   "execution_count": 29,
   "id": "bbfeb990-0e09-478e-b371-b44b56f25be9",
   "metadata": {},
   "outputs": [
    {
     "name": "stdout",
     "output_type": "stream",
     "text": [
      "\u001b[94m\u001b[1mShape of shuffled feature matrix:\u001b[0m\n",
      "(350, 1230)\n",
      "\n",
      "\u001b[94m\u001b[1mHead of shuffled feature matrix:\u001b[0m\n",
      "     CLASS   00  000   02  034   05   08   10  100  100000415527985  ...   yt  \\\n",
      "192      1  0.0  0.0  0.0  0.0  0.0  0.0  0.0  0.0              0.0  ...  0.0   \n",
      "256      1  0.0  0.0  0.0  0.0  0.0  0.0  0.0  0.0              0.0  ...  0.0   \n",
      "169      0  0.0  0.0  0.0  0.0  0.0  0.0  0.0  0.0              0.0  ...  0.0   \n",
      "\n",
      "     zero  zombie  zxlightsoutxz     강남스타일  ｃｏｍｍｅｎｔ  ｄａｍｎ  ｆａｎｃy   ｉｓ  ｔｈｉｓ  \n",
      "192   0.0     0.0            0.0  0.000000      0.0   0.0    0.0  0.0   0.0  \n",
      "256   0.0     0.0            0.0  0.000000      0.0   0.0    0.0  0.0   0.0  \n",
      "169   0.0     0.0            0.0  0.280504      0.0   0.0    0.0  0.0   0.0  \n",
      "\n",
      "[3 rows x 1230 columns]\n",
      "\n"
     ]
    }
   ],
   "source": [
    "print(Colors.BLUE + \"Shape of shuffled feature matrix:\" + Colors.END)\n",
    "print( shuffled_feat_mat.shape )\n",
    "print(\"\")\n",
    "\n",
    "print(Colors.BLUE + \"Head of shuffled feature matrix:\" + Colors.END)\n",
    "print( shuffled_feat_mat.head(3) )\n",
    "print(\"\")"
   ]
  },
  {
   "cell_type": "markdown",
   "id": "8f4f3c65-9188-4762-9f33-fd66c7e40455",
   "metadata": {},
   "source": [
    "<h4 style=\"color:#874c62;\">5. Analysis.</h4>"
   ]
  },
  {
   "cell_type": "markdown",
   "id": "6b933a31-1771-45c7-990a-4390cb4dda41",
   "metadata": {},
   "source": [
    "<div style=\"background-color: rgba(120,120,200,0.25); padding: 10px;\">\n",
    "    <h5>Analysis of BOW vs TF-IDF transforms<br></h5>\n",
    "    <body>\n",
    "        <table>\n",
    "            <tr>\n",
    "                <th>S No</th> <th>Matrix</th> <th>Rows</th> <th>Columns</th> <th>Sum of elements</th> <th>Density</th>\n",
    "            </tr>\n",
    "            <tr>\n",
    "                <td>1</td> <td>Original</td> <td>350</td> <td>2</td> <td>Not specified</td> <td>1</td>\n",
    "            </tr>\n",
    "                <td>2</td> <td>Count vectorizer sparse</td> <td>350</td> <td>1229</td> <td>3152</td> <td>0.0065</td>\n",
    "            <tr>\n",
    "            <tr>\n",
    "                <td>3</td> <td>TF-IDF sparse</td> <td>350</td> <td>1229</td> <td>881.132</td> <td>0.0065</td>\n",
    "            </tr>\n",
    "        </table> \n",
    "        We observe that:\n",
    "        <ul>\n",
    "            <li>When the data is vectorized, the number of columns increases to the number of unique words in the corpus.</li>\n",
    "            <li>The density of sparse matrices are low, i.e. most of the matrix elements are 0.</li>\n",
    "            <li>As expected, the sparse matrices from Count Vectorizer and TF-IDF have the same number of columns and the same density.</li>\n",
    "            <li>The sum of all the elements in the sparse matrix corresponding to TF-IDF is lower than the sum of all the elements in the sparse matrix of Count Vectorizer. This is because TF-IDF downscales the values.</li>\n",
    "        </ul>\n",
    "    </body>\n",
    "</div>"
   ]
  },
  {
   "cell_type": "markdown",
   "id": "f9d36d91-63f7-4d32-8a5e-bbbdd0b7fbb4",
   "metadata": {},
   "source": [
    "<h3 style=\"color:maroon;\">D. Model building</h3>\n",
    "<h4 style=\"color:teal;\">(<b>Primary Contributor:</b> <u>Ibrahem</u> | <b>Reviewer:</b> <u>Uday</u>)</h4>"
   ]
  },
  {
   "cell_type": "markdown",
   "id": "06fe5870-cc94-438d-84b5-290b52e79407",
   "metadata": {},
   "source": [
    "<h4 style=\"color:#874c62;\">1. Make a 75-25 train test split without using train_test_split.</h4>"
   ]
  },
  {
   "cell_type": "code",
   "execution_count": 30,
   "id": "1c57fd24-e0a9-4fae-84f8-e3aabef8677c",
   "metadata": {},
   "outputs": [],
   "source": [
    "# Determine indices\n",
    "split_index = int( 0.75 * len(shuffled_feat_mat) )\n",
    "\n",
    "# Allocate data according to indices\n",
    "train_data = shuffled_feat_mat[:split_index]\n",
    "test_data = shuffled_feat_mat[split_index:]\n",
    "\n",
    "# Separate classes from features for each data set\n",
    "x_train = train_data.drop(columns = [\"CLASS\"])\n",
    "y_train = train_data[\"CLASS\"]\n",
    "\n",
    "x_test = test_data.drop(columns = [\"CLASS\"])\n",
    "y_test = test_data[\"CLASS\"]"
   ]
  },
  {
   "cell_type": "code",
   "execution_count": 31,
   "id": "9a4c18c7-1bfd-4523-9ac8-0c5b1b7eb651",
   "metadata": {},
   "outputs": [
    {
     "name": "stdout",
     "output_type": "stream",
     "text": [
      "\u001b[94m\u001b[1mSplit index:\u001b[0m\n",
      "262\n",
      "\n",
      "\u001b[94m\u001b[1mShape of x_train:\u001b[0m\n",
      "(262, 1229)\n",
      "\n",
      "\u001b[94m\u001b[1mShape of y_train:\u001b[0m\n",
      "(262,)\n",
      "\n",
      "\u001b[94m\u001b[1mShape of x_test:\u001b[0m\n",
      "(88, 1229)\n",
      "\n",
      "\u001b[94m\u001b[1mShape of y_test:\u001b[0m\n",
      "(88,)\n",
      "\n"
     ]
    }
   ],
   "source": [
    "print(Colors.BLUE + \"Split index:\" + Colors.END)\n",
    "print( split_index )\n",
    "print(\"\")\n",
    "\n",
    "print(Colors.BLUE + \"Shape of x_train:\" + Colors.END)\n",
    "print( x_train.shape )\n",
    "print(\"\")\n",
    "\n",
    "print(Colors.BLUE + \"Shape of y_train:\" + Colors.END)\n",
    "print( y_train.shape )\n",
    "print(\"\")\n",
    "\n",
    "print(Colors.BLUE + \"Shape of x_test:\" + Colors.END)\n",
    "print( x_test.shape )\n",
    "print(\"\")\n",
    "\n",
    "print(Colors.BLUE + \"Shape of y_test:\" + Colors.END)\n",
    "print( y_test.shape )\n",
    "print(\"\")"
   ]
  },
  {
   "cell_type": "markdown",
   "id": "359b8755-d534-4847-af6f-4b5f86a47c82",
   "metadata": {},
   "source": [
    "<h4 style=\"color:#874c62;\">2. Fit multinomial Naive-Bayes.</h4>"
   ]
  },
  {
   "cell_type": "code",
   "execution_count": 32,
   "id": "e0167ab5-3909-47b7-b942-145977e20ae3",
   "metadata": {},
   "outputs": [
    {
     "data": {
      "text/html": [
       "<style>#sk-container-id-1 {color: black;}#sk-container-id-1 pre{padding: 0;}#sk-container-id-1 div.sk-toggleable {background-color: white;}#sk-container-id-1 label.sk-toggleable__label {cursor: pointer;display: block;width: 100%;margin-bottom: 0;padding: 0.3em;box-sizing: border-box;text-align: center;}#sk-container-id-1 label.sk-toggleable__label-arrow:before {content: \"▸\";float: left;margin-right: 0.25em;color: #696969;}#sk-container-id-1 label.sk-toggleable__label-arrow:hover:before {color: black;}#sk-container-id-1 div.sk-estimator:hover label.sk-toggleable__label-arrow:before {color: black;}#sk-container-id-1 div.sk-toggleable__content {max-height: 0;max-width: 0;overflow: hidden;text-align: left;background-color: #f0f8ff;}#sk-container-id-1 div.sk-toggleable__content pre {margin: 0.2em;color: black;border-radius: 0.25em;background-color: #f0f8ff;}#sk-container-id-1 input.sk-toggleable__control:checked~div.sk-toggleable__content {max-height: 200px;max-width: 100%;overflow: auto;}#sk-container-id-1 input.sk-toggleable__control:checked~label.sk-toggleable__label-arrow:before {content: \"▾\";}#sk-container-id-1 div.sk-estimator input.sk-toggleable__control:checked~label.sk-toggleable__label {background-color: #d4ebff;}#sk-container-id-1 div.sk-label input.sk-toggleable__control:checked~label.sk-toggleable__label {background-color: #d4ebff;}#sk-container-id-1 input.sk-hidden--visually {border: 0;clip: rect(1px 1px 1px 1px);clip: rect(1px, 1px, 1px, 1px);height: 1px;margin: -1px;overflow: hidden;padding: 0;position: absolute;width: 1px;}#sk-container-id-1 div.sk-estimator {font-family: monospace;background-color: #f0f8ff;border: 1px dotted black;border-radius: 0.25em;box-sizing: border-box;margin-bottom: 0.5em;}#sk-container-id-1 div.sk-estimator:hover {background-color: #d4ebff;}#sk-container-id-1 div.sk-parallel-item::after {content: \"\";width: 100%;border-bottom: 1px solid gray;flex-grow: 1;}#sk-container-id-1 div.sk-label:hover label.sk-toggleable__label {background-color: #d4ebff;}#sk-container-id-1 div.sk-serial::before {content: \"\";position: absolute;border-left: 1px solid gray;box-sizing: border-box;top: 0;bottom: 0;left: 50%;z-index: 0;}#sk-container-id-1 div.sk-serial {display: flex;flex-direction: column;align-items: center;background-color: white;padding-right: 0.2em;padding-left: 0.2em;position: relative;}#sk-container-id-1 div.sk-item {position: relative;z-index: 1;}#sk-container-id-1 div.sk-parallel {display: flex;align-items: stretch;justify-content: center;background-color: white;position: relative;}#sk-container-id-1 div.sk-item::before, #sk-container-id-1 div.sk-parallel-item::before {content: \"\";position: absolute;border-left: 1px solid gray;box-sizing: border-box;top: 0;bottom: 0;left: 50%;z-index: -1;}#sk-container-id-1 div.sk-parallel-item {display: flex;flex-direction: column;z-index: 1;position: relative;background-color: white;}#sk-container-id-1 div.sk-parallel-item:first-child::after {align-self: flex-end;width: 50%;}#sk-container-id-1 div.sk-parallel-item:last-child::after {align-self: flex-start;width: 50%;}#sk-container-id-1 div.sk-parallel-item:only-child::after {width: 0;}#sk-container-id-1 div.sk-dashed-wrapped {border: 1px dashed gray;margin: 0 0.4em 0.5em 0.4em;box-sizing: border-box;padding-bottom: 0.4em;background-color: white;}#sk-container-id-1 div.sk-label label {font-family: monospace;font-weight: bold;display: inline-block;line-height: 1.2em;}#sk-container-id-1 div.sk-label-container {text-align: center;}#sk-container-id-1 div.sk-container {/* jupyter's `normalize.less` sets `[hidden] { display: none; }` but bootstrap.min.css set `[hidden] { display: none !important; }` so we also need the `!important` here to be able to override the default hidden behavior on the sphinx rendered scikit-learn.org. See: https://github.com/scikit-learn/scikit-learn/issues/21755 */display: inline-block !important;position: relative;}#sk-container-id-1 div.sk-text-repr-fallback {display: none;}</style><div id=\"sk-container-id-1\" class=\"sk-top-container\"><div class=\"sk-text-repr-fallback\"><pre>MultinomialNB()</pre><b>In a Jupyter environment, please rerun this cell to show the HTML representation or trust the notebook. <br />On GitHub, the HTML representation is unable to render, please try loading this page with nbviewer.org.</b></div><div class=\"sk-container\" hidden><div class=\"sk-item\"><div class=\"sk-estimator sk-toggleable\"><input class=\"sk-toggleable__control sk-hidden--visually\" id=\"sk-estimator-id-1\" type=\"checkbox\" checked><label for=\"sk-estimator-id-1\" class=\"sk-toggleable__label sk-toggleable__label-arrow\">MultinomialNB</label><div class=\"sk-toggleable__content\"><pre>MultinomialNB()</pre></div></div></div></div></div>"
      ],
      "text/plain": [
       "MultinomialNB()"
      ]
     },
     "execution_count": 32,
     "metadata": {},
     "output_type": "execute_result"
    }
   ],
   "source": [
    "clf = MultinomialNB()\n",
    "clf.fit(x_train, y_train)"
   ]
  },
  {
   "cell_type": "markdown",
   "id": "59499b09-4262-42c1-9666-304e73b28aed",
   "metadata": {},
   "source": [
    "<h4 style=\"color:#874c62;\">3. Cross validation.</h4>"
   ]
  },
  {
   "cell_type": "code",
   "execution_count": 33,
   "id": "766ac73f-5dc6-4eb3-b60c-d4854d199dbe",
   "metadata": {},
   "outputs": [],
   "source": [
    "cross_val_scores = cross_val_score(clf, x_train, y_train, cv=5)"
   ]
  },
  {
   "cell_type": "code",
   "execution_count": 34,
   "id": "e04307d3-cb0b-4af4-bf8b-c10fbdac7183",
   "metadata": {},
   "outputs": [
    {
     "name": "stdout",
     "output_type": "stream",
     "text": [
      "\u001b[94m\u001b[1mCross-validation scores:\u001b[0m [0.90566038 0.98113208 0.92307692 0.94230769 0.92307692]\n",
      "\u001b[94m\u001b[1mMean accuracy:\u001b[0m 0.9350507982583455\n",
      "\u001b[94m\u001b[1mStandard deviation:\u001b[0m 0.02579414986096068\n"
     ]
    }
   ],
   "source": [
    "# Print the cross-validation sc0ores\n",
    "print(Colors.BLUE + \"Cross-validation scores:\" + Colors.END, cross_val_scores)\n",
    "print(Colors.BLUE + \"Mean accuracy:\" + Colors.END, cross_val_scores.mean())\n",
    "print(Colors.BLUE + \"Standard deviation:\" + Colors.END, cross_val_scores.std())"
   ]
  },
  {
   "cell_type": "markdown",
   "id": "de56a4b0-0c92-4f78-acb1-45b6e82c0442",
   "metadata": {},
   "source": [
    "<h4 style=\"color:#874c62;\">4. Test model, print accuracy and confusion matrix.</h4>"
   ]
  },
  {
   "cell_type": "code",
   "execution_count": 35,
   "id": "ecca27f3-0c33-4d7c-ad30-e74466ab8240",
   "metadata": {},
   "outputs": [
    {
     "name": "stdout",
     "output_type": "stream",
     "text": [
      "\u001b[94m\u001b[1mAccuracy: \u001b[0m 0.9545454545454546\n",
      "\u001b[94m\u001b[1mConfusion Matrix:\u001b[0m\n",
      "[[41  1]\n",
      " [ 3 43]]\n"
     ]
    }
   ],
   "source": [
    "# Predict on the test set\n",
    "y_pred = clf.predict(x_test)\n",
    "\n",
    "# Evaluate the model\n",
    "accuracy = accuracy_score(y_test, y_pred)\n",
    "print(Colors.BLUE + 'Accuracy: ' + Colors.END, accuracy)\n",
    "\n",
    "#Print confusion matrix\n",
    "print(Colors.BLUE + \"Confusion Matrix:\" +Colors.END)\n",
    "print(confusion_matrix(y_test, y_pred))"
   ]
  },
  {
   "cell_type": "code",
   "execution_count": 36,
   "id": "67a62605-d0f2-4331-b6dc-b5aae20e9888",
   "metadata": {},
   "outputs": [
    {
     "name": "stdout",
     "output_type": "stream",
     "text": [
      "\u001b[94m\u001b[1mClassification Report:\u001b[0m\n",
      "              precision    recall  f1-score   support\n",
      "\n",
      "           0       0.93      0.98      0.95        42\n",
      "           1       0.98      0.93      0.96        46\n",
      "\n",
      "    accuracy                           0.95        88\n",
      "   macro avg       0.95      0.96      0.95        88\n",
      "weighted avg       0.96      0.95      0.95        88\n",
      "\n"
     ]
    }
   ],
   "source": [
    "# Display classification report\n",
    "print(Colors.BLUE + \"Classification Report:\" + Colors.END)\n",
    "print(classification_report(y_test, y_pred))"
   ]
  },
  {
   "cell_type": "markdown",
   "id": "afae8ad5-5c38-4cca-937e-120548ca7631",
   "metadata": {},
   "source": [
    "<h4 style=\"color:#874c62;\">5. Analysis of model metrics.</h4>"
   ]
  },
  {
   "cell_type": "markdown",
   "id": "2309f6b2-3700-40a0-af8b-b432b90441fd",
   "metadata": {},
   "source": [
    "<div style=\"background-color: rgba(120,120,200,0.25); padding: 10px;\">\n",
    "    <h5>Analysis of model metrics<br></h5>\n",
    "    <body>\n",
    "        <table>\n",
    "            <h5>Confusion matrix:<br></h5>\n",
    "            <tr>\n",
    "                <th>Class</th> <th>0</th> <th>1</th>\n",
    "            </tr>\n",
    "            <tr>\n",
    "                <td>0</td> <td>43</td> <td>1</td>\n",
    "            </tr>\n",
    "                <td>1</td> <td>3</td> <td>43</td>\n",
    "            <tr>\n",
    "        </table> \n",
    "        We observe that:\n",
    "        <ul>\n",
    "            <li>The model accurately classifies 41 and 43 of the comments as spam and not spam, respectively. i.e. It is a good predictor of true positives and true negatives.</li>\n",
    "            <li>The precision (TP/(TP+FP)) of the model is 0.97.</li>\n",
    "            <li>The recall (TP/(TP+FN)) of the model is 0.93.</li>\n",
    "            <li>The ovarall accuracy of the model is 0.95.</li>\n",
    "            <li>This indicates that the model is performing well, with 1 false positives. Ideally, having low false positives will mitigate the risk to removing important comments.</li>\n",
    "        </ul>\n",
    "    </body>\n",
    "</div>"
   ]
  },
  {
   "cell_type": "markdown",
   "id": "a5ff10f3-9b4f-4f55-b70c-b42ac398df6e",
   "metadata": {},
   "source": [
    "<h4 style=\"color:#874c62;\">6. Add 6 new comments and classify them.</h4>"
   ]
  },
  {
   "cell_type": "code",
   "execution_count": 37,
   "id": "a9dc939b-c30d-492b-b0f5-1a94bf2c57b6",
   "metadata": {},
   "outputs": [
    {
     "name": "stdout",
     "output_type": "stream",
     "text": [
      "(11, 1229)\n",
      "(11, 1229)\n"
     ]
    },
    {
     "data": {
      "text/html": [
       "<div>\n",
       "<style scoped>\n",
       "    .dataframe tbody tr th:only-of-type {\n",
       "        vertical-align: middle;\n",
       "    }\n",
       "\n",
       "    .dataframe tbody tr th {\n",
       "        vertical-align: top;\n",
       "    }\n",
       "\n",
       "    .dataframe thead th {\n",
       "        text-align: right;\n",
       "    }\n",
       "</style>\n",
       "<table border=\"1\" class=\"dataframe\">\n",
       "  <thead>\n",
       "    <tr style=\"text-align: right;\">\n",
       "      <th></th>\n",
       "      <th>CONTENT</th>\n",
       "      <th>Prediction</th>\n",
       "    </tr>\n",
       "  </thead>\n",
       "  <tbody>\n",
       "    <tr>\n",
       "      <th>0</th>\n",
       "      <td>This is video is amazing.</td>\n",
       "      <td>0</td>\n",
       "    </tr>\n",
       "    <tr>\n",
       "      <th>1</th>\n",
       "      <td>Shop now at amazon.com</td>\n",
       "      <td>1</td>\n",
       "    </tr>\n",
       "    <tr>\n",
       "      <th>2</th>\n",
       "      <td>Lol. What a joke!</td>\n",
       "      <td>0</td>\n",
       "    </tr>\n",
       "    <tr>\n",
       "      <th>3</th>\n",
       "      <td>Ha, this is so funny!</td>\n",
       "      <td>0</td>\n",
       "    </tr>\n",
       "    <tr>\n",
       "      <th>4</th>\n",
       "      <td>Quick fix to all your problems. Click the link...</td>\n",
       "      <td>1</td>\n",
       "    </tr>\n",
       "    <tr>\n",
       "      <th>5</th>\n",
       "      <td>This movie is amazing! Highly recommended.</td>\n",
       "      <td>1</td>\n",
       "    </tr>\n",
       "    <tr>\n",
       "      <th>6</th>\n",
       "      <td>The customer support was exceptional. Great se...</td>\n",
       "      <td>0</td>\n",
       "    </tr>\n",
       "    <tr>\n",
       "      <th>7</th>\n",
       "      <td>I found the tutorial very helpful. Thank you!</td>\n",
       "      <td>0</td>\n",
       "    </tr>\n",
       "    <tr>\n",
       "      <th>8</th>\n",
       "      <td>Click the link to win a free iPhone!</td>\n",
       "      <td>1</td>\n",
       "    </tr>\n",
       "    <tr>\n",
       "      <th>9</th>\n",
       "      <td>Get rich quick with this investment scheme!</td>\n",
       "      <td>0</td>\n",
       "    </tr>\n",
       "    <tr>\n",
       "      <th>10</th>\n",
       "      <td>The video is well shot</td>\n",
       "      <td>0</td>\n",
       "    </tr>\n",
       "  </tbody>\n",
       "</table>\n",
       "</div>"
      ],
      "text/plain": [
       "                                              CONTENT  Prediction\n",
       "0                           This is video is amazing.           0\n",
       "1                              Shop now at amazon.com           1\n",
       "2                                   Lol. What a joke!           0\n",
       "3                               Ha, this is so funny!           0\n",
       "4   Quick fix to all your problems. Click the link...           1\n",
       "5          This movie is amazing! Highly recommended.           1\n",
       "6   The customer support was exceptional. Great se...           0\n",
       "7       I found the tutorial very helpful. Thank you!           0\n",
       "8                Click the link to win a free iPhone!           1\n",
       "9         Get rich quick with this investment scheme!           0\n",
       "10                             The video is well shot           0"
      ]
     },
     "execution_count": 37,
     "metadata": {},
     "output_type": "execute_result"
    }
   ],
   "source": [
    "# Create new comments for prediction\n",
    "comment_array = np.array([[\"This is video is amazing.\"],\n",
    "                          [\"Shop now at amazon.com\"],\n",
    "                          [\"Lol. What a joke!\"],\n",
    "                          [\"Ha, this is so funny!\"],\n",
    "                          [\"Quick fix to all your problems. Click the link now!\"],\n",
    "                          [\"This movie is amazing! Highly recommended.\"],\n",
    "                          [\"The customer support was exceptional. Great service!\"],\n",
    "                          [\"I found the tutorial very helpful. Thank you!\"],\n",
    "                          [\"Click the link to win a free iPhone!\"],\n",
    "                          [\"Get rich quick with this investment scheme!\"],\n",
    "                          [\"The video is well shot\"]])\n",
    "column_name = [\"CONTENT\"]\n",
    "comment_df = pd.DataFrame(comment_array, columns=column_name)\n",
    "\n",
    "# Process dataframe\n",
    "comment_df_proc = comment_df.copy()\n",
    "comment_df_proc[\"CONTENT\"] = comment_df[\"CONTENT\"].apply(process_text)\n",
    "\n",
    "# Vectorize dataframe\n",
    "bow_sparse_matrix = vectorizer.transform(comment_df_proc['CONTENT'])\n",
    "tfidf_sparse_matrix = tfidf_transformer.transform(bow_sparse_matrix)\n",
    "print(tfidf_sparse_matrix.shape)\n",
    "\n",
    "feature_names = vectorizer.get_feature_names_out();\n",
    "tfidf_df = pd.DataFrame(tfidf_sparse_matrix.toarray(), columns=feature_names)\n",
    "print(tfidf_df.shape)\n",
    "\n",
    "# Make prediction\n",
    "prediction = clf.predict(tfidf_df)\n",
    "prediction_df = pd.DataFrame(prediction, columns=[\"Prediction\"])\n",
    "# Concat prediction to dataframe and print\n",
    "classifier_comments = pd.concat([comment_df, prediction_df], axis=1)\n",
    "classifier_comments.head(12)"
   ]
  },
  {
   "cell_type": "markdown",
   "id": "2c99b18d-3b63-48d2-bb9c-9c5e00d8ee61",
   "metadata": {},
   "source": [
    "<h4 style=\"color:#874c62;\">7. Analysis of spam classification of new comments.</h4>"
   ]
  },
  {
   "cell_type": "markdown",
   "id": "f79c6ffa-0249-4f90-8ed6-3819aef9fcca",
   "metadata": {},
   "source": [
    "<div style=\"background-color: rgba(120,120,200,0.25); padding: 10px;\">\n",
    "    <h5>Analysis of spam classification of new comments<br></h5>\n",
    "    <body>\n",
    "        <ul>\n",
    "            <li>The model correctly classifies 8 out of the 10 new comments fed to it.</li>\n",
    "            <li>The model accuracy in this test case is 0.80.</li>\n",
    "            <li>This lower than the accuracy obtained with the original test set (0.95).</li>\n",
    "            <li>However, because the the number of new comments is small (10) it's difficult to say if the difference in accuracies is statistically relevant.</li>\n",
    "        </ul>\n",
    "    </body>\n",
    "</div>"
   ]
  },
  {
   "cell_type": "markdown",
   "id": "dbcee1b7-dc36-4637-a2bb-061b5c2ee8b3",
   "metadata": {},
   "source": [
    "<h3 style=\"color:maroon;\">Report</h3>"
   ]
  },
  {
   "cell_type": "markdown",
   "id": "1fc970fe-da45-4bef-9c78-8ce1d543a1f3",
   "metadata": {},
   "source": [
    "<div style=\"background-color:rgba(95, 158, 160, 0.3);padding: 10px;\">\n",
    "<h3 style=\"text-align: center;\"><b>Report</b></h3>\n",
    "<body>\n",
    "    <h4 style=\"text-align: center;\"><b>Introduction</b></h4>\n",
    "    <p>\n",
    "        Natural Language Processing (NLP) is an essential tool to extract valuable insights from unstructured text data. This report covers data preparation, data transformation, and model building utilizing the Naive-Bayes algorithm. Python’s versatile libraries such as the nltk (natural language toolkit), pandas, and sklearn make it a prime candidate for the model building process. Throughout this exploration, key concepts such as tokenization, stop word removal, lemmatization, and vectorization will be employed to refine the dataset and optimize the model. With practical demonstration through the jupyter notebook, readers can gain a thorough understanding of NLP with the Naive-Bayes classifier.\n",
    "    </p>\n",
    "    <h4 style=\"text-align: center;\"><b>Methodology</b></h4>  \n",
    "    <ol>\n",
    "        <li>Scikit learn and nltk were used to build a spam classifier.</li>\n",
    "        <li>Classified comments from youtube were used to train the model.</li>\n",
    "        <li>\n",
    "            The text was preprocessed in the following sequence:\n",
    "            <ol>\n",
    "                <li> All text was converted to lower case.</li>\n",
    "                <li>The text was then tokenized.</li>\n",
    "                <li>Non-alphanumeric characters and stop words were removed from the tokenized text.</li>\n",
    "                <li>The tokens were lemmatized.</li>\n",
    "                <li>The processed tokens were converted back into a string</li>\n",
    "            </ol>\n",
    "        </li>\n",
    "        <li>\n",
    "            Text processing was followed by vectorization:\n",
    "            <ol>\n",
    "                <li>The text was vectorized using count vectorizer.</li>\n",
    "                <li>The vectors were transformed with TF-IDF to reflect the significance of each word in the document.</li>\n",
    "            </ol>\n",
    "        </li>\n",
    "        <li>The vectorized text was split into a training and test set (training:test = 0.75:0.25).</li>\n",
    "        <li>The training set was fit to a multinomial Naive-Bayes classifier.</li>\n",
    "        <li>The model was cross validated and it's accuracy was determined using the test set.</li>\n",
    "        <li>Finally, the trained model was used to classify new(unseen) comments and its performance was evaluated.</li>\n",
    "    </ol>\n",
    "    <h4 style=\"text-align: center;\"><b>Analysis</b></h4>\n",
    "    <p>\n",
    "        <h5><u>Analysis of raw data frame</u><br></h5>\n",
    "            <ul>\n",
    "                <li>The data set contains 350 entries and 5 attributes.</li>\n",
    "                <li>None of the fields in the data set are empty.</li>\n",
    "                <li>Fields,<b>COMMENT_ID, AUTHOR, DATE</b> contain mostly unique values, hence they will be ignored in classifying the <b>CONTENT</b> class.</li>\n",
    "            </ul>\n",
    "    </p>\n",
    "    <h5><u>Analysis of CONTENT</u></h5>\n",
    "    <p>\n",
    "        <ul>\n",
    "                <li>\n",
    "                    Based on a summary statistical analysis there aren't many features that distinguish between spam and ham comments.\n",
    "                </li>\n",
    "                <li>\n",
    "                    Both spam and ham comments show similarly skewed distribution, with most of them having total character counts bounded between 0 - 200 characters. \n",
    "                </li>\n",
    "                <li>\n",
    "                    The longest spam message has more characters than the longest ham message, however, the statistical relevance of this is undecided.\n",
    "                </li>\n",
    "                <li>\n",
    "                    It is not immediately clear if including content length as a feature will improve the performance of a classifier.\n",
    "                </li>\n",
    "                <li>\n",
    "                    The data set is balanced with roughly the same number of spam and ham examples.\n",
    "                </li>\n",
    "            </ul>\n",
    "    </p>\n",
    "    <p>\n",
    "        <h5><u>Analysis of BOW vs TF-IDF transforms</u></h5>\n",
    "        <table>\n",
    "            <tr>\n",
    "                <th>S No</th> <th>Matrix</th> <th>Rows</th> <th>Columns</th> <th>Sum of elements</th> <th>Density</th>\n",
    "            </tr>\n",
    "            <tr>\n",
    "                <td>1</td> <td>Original</td> <td>350</td> <td>2</td> <td>Not specified</td> <td>1</td>\n",
    "            </tr>\n",
    "                <td>2</td> <td>Count vectorizer sparse</td> <td>350</td> <td>1229</td> <td>3152</td> <td>0.0065</td>\n",
    "            <tr>\n",
    "            <tr>\n",
    "                <td>3</td> <td>TF-IDF sparse</td> <td>350</td> <td>1229</td> <td>881.132</td> <td>0.0065</td>\n",
    "            </tr>\n",
    "        </table> \n",
    "        We observe that:\n",
    "        <ul>\n",
    "            <li>When the data is vectorized, the number of columns increases to the number of unique words in the corpus.</li>\n",
    "            <li>The density of sparse matrices are low, i.e. most of the matrix elements are 0.</li>\n",
    "            <li>As expected, the sparse matrices from Count Vectorizer and TF-IDF have the same number of columns and the same density.</li>\n",
    "            <li>The sum of all the elements in the sparse matrix corresponding to TF-IDF is lower than the sum of all the elements in the sparse matrix of Count Vectorizer. This is because TF-IDF downscales the values.</li>\n",
    "        </ul>\n",
    "    </p>\n",
    "    <p>\n",
    "            <h5><u>Analysis of model metrics</u></h5>\n",
    "        <table>\n",
    "            <h5>Confusion matrix:<br></h5>\n",
    "            <tr>\n",
    "                <th>Class</th> <th>0</th> <th>1</th>\n",
    "            </tr>\n",
    "            <tr>\n",
    "                <td>0</td> <td>43</td> <td>1</td>\n",
    "            </tr>\n",
    "                <td>1</td> <td>3</td> <td>43</td>\n",
    "            <tr>\n",
    "        </table> \n",
    "        We observe that:\n",
    "        <ul>\n",
    "            <li>The model accurately classifies 41 and 43 of the comments as spam and not spam, respectively. i.e. It is a good predictor of true positives and true negatives.</li>\n",
    "            <li>The precision (TP/(TP+FP)) of the model is 0.97.</li>\n",
    "            <li>The recall (TP/(TP+FN)) of the model is 0.93.</li>\n",
    "            <li>The ovarall accuracy of the model is 0.95.</li>\n",
    "            <li>This indicates that the model is performing well, with 1 false positives. Ideally, having low false positives will mitigate the risk to removing important comments.</li>\n",
    "        </ul>\n",
    "    </p>\n",
    "    <p>\n",
    "        <h5><u>Analysis of spam classification of new comments</u></h5>\n",
    "        <ul>\n",
    "            <li>The model correctly classifies 8 out of the 10 new comments fed to it.</li>\n",
    "            <li>The model accuracy in this test case is 0.80.</li>\n",
    "            <li>This lower than the accuracy obtained with the original test set (0.95).</li>\n",
    "            <li>However, because the the number of new comments is small (10) it's difficult to say if the difference in accuracies is statistically relevant.</li>\n",
    "        </ul>\n",
    "    </p>\n",
    "    <p>\n",
    "    <h4 style=\"text-align: center;\"><b>Conclusion</b></h4>\n",
    "    Using NLTK ans Scikit learn  we were able to build and train a model that is able to accurately distinguish between spam and ham comments.\n",
    "    </p>\n",
    "    <p>\n",
    "    <h4 style=\"text-align: center;\"><b>Future Work</b></h4>\n",
    "    <ul>\n",
    "        <li>Retest model with larger training and testing sets for statistical relevancy.</li>\n",
    "        <li>Understanding the impacts of stemming vs lemmatizing on model accuracy.</li>\n",
    "        <li>Compare the Naive-Bayes classifier against other models (eg. ANN) and evaluation performance metrics and computational cost.</li>\n",
    "    </ul>\n",
    "    </p>\n",
    "    \n",
    "</body>\n",
    "</div>"
   ]
  }
 ],
 "metadata": {
  "kernelspec": {
   "display_name": "Python 3 (ipykernel)",
   "language": "python",
   "name": "python3"
  },
  "language_info": {
   "codemirror_mode": {
    "name": "ipython",
    "version": 3
   },
   "file_extension": ".py",
   "mimetype": "text/x-python",
   "name": "python",
   "nbconvert_exporter": "python",
   "pygments_lexer": "ipython3",
   "version": "3.11.6"
  }
 },
 "nbformat": 4,
 "nbformat_minor": 5
}
